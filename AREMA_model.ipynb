{
 "cells": [
  {
   "cell_type": "code",
   "execution_count": 1,
   "id": "9414222f",
   "metadata": {},
   "outputs": [
    {
     "name": "stdout",
     "output_type": "stream",
     "text": [
      "Requirement already satisfied: pmdarima in c:\\users\\agl\\anaconda3\\lib\\site-packages (2.0.1)\n",
      "Requirement already satisfied: pandas>=0.19 in c:\\users\\agl\\anaconda3\\lib\\site-packages (from pmdarima) (1.4.2)\n",
      "Requirement already satisfied: urllib3 in c:\\users\\agl\\anaconda3\\lib\\site-packages (from pmdarima) (1.26.9)\n",
      "Requirement already satisfied: setuptools!=50.0.0,>=38.6.0 in c:\\users\\agl\\anaconda3\\lib\\site-packages (from pmdarima) (61.2.0)\n",
      "Requirement already satisfied: scipy>=1.3.2 in c:\\users\\agl\\anaconda3\\lib\\site-packages (from pmdarima) (1.7.3)\n",
      "Requirement already satisfied: numpy>=1.21 in c:\\users\\agl\\anaconda3\\lib\\site-packages (from pmdarima) (1.21.5)\n",
      "Requirement already satisfied: joblib>=0.11 in c:\\users\\agl\\anaconda3\\lib\\site-packages (from pmdarima) (1.1.0)\n",
      "Requirement already satisfied: statsmodels>=0.13.2 in c:\\users\\agl\\anaconda3\\lib\\site-packages (from pmdarima) (0.13.2)\n",
      "Requirement already satisfied: scikit-learn>=0.22 in c:\\users\\agl\\anaconda3\\lib\\site-packages (from pmdarima) (1.0.2)\n",
      "Requirement already satisfied: Cython!=0.29.18,!=0.29.31,>=0.29 in c:\\users\\agl\\anaconda3\\lib\\site-packages (from pmdarima) (0.29.28)\n",
      "Requirement already satisfied: pytz>=2020.1 in c:\\users\\agl\\anaconda3\\lib\\site-packages (from pandas>=0.19->pmdarima) (2021.3)\n",
      "Requirement already satisfied: python-dateutil>=2.8.1 in c:\\users\\agl\\anaconda3\\lib\\site-packages (from pandas>=0.19->pmdarima) (2.8.2)\n",
      "Requirement already satisfied: six>=1.5 in c:\\users\\agl\\anaconda3\\lib\\site-packages (from python-dateutil>=2.8.1->pandas>=0.19->pmdarima) (1.16.0)\n",
      "Requirement already satisfied: threadpoolctl>=2.0.0 in c:\\users\\agl\\anaconda3\\lib\\site-packages (from scikit-learn>=0.22->pmdarima) (2.2.0)\n",
      "Requirement already satisfied: patsy>=0.5.2 in c:\\users\\agl\\anaconda3\\lib\\site-packages (from statsmodels>=0.13.2->pmdarima) (0.5.2)\n",
      "Requirement already satisfied: packaging>=21.3 in c:\\users\\agl\\anaconda3\\lib\\site-packages (from statsmodels>=0.13.2->pmdarima) (21.3)\n",
      "Requirement already satisfied: pyparsing!=3.0.5,>=2.0.2 in c:\\users\\agl\\anaconda3\\lib\\site-packages (from packaging>=21.3->statsmodels>=0.13.2->pmdarima) (3.0.4)\n"
     ]
    }
   ],
   "source": [
    "!pip install pmdarima"
   ]
  },
  {
   "cell_type": "code",
   "execution_count": 2,
   "id": "61224892",
   "metadata": {},
   "outputs": [],
   "source": [
    "import pandas as pd\n",
    "import numpy as np"
   ]
  },
  {
   "cell_type": "code",
   "execution_count": 6,
   "id": "81a4d14d",
   "metadata": {},
   "outputs": [
    {
     "data": {
      "text/html": [
       "<div>\n",
       "<style scoped>\n",
       "    .dataframe tbody tr th:only-of-type {\n",
       "        vertical-align: middle;\n",
       "    }\n",
       "\n",
       "    .dataframe tbody tr th {\n",
       "        vertical-align: top;\n",
       "    }\n",
       "\n",
       "    .dataframe thead th {\n",
       "        text-align: right;\n",
       "    }\n",
       "</style>\n",
       "<table border=\"1\" class=\"dataframe\">\n",
       "  <thead>\n",
       "    <tr style=\"text-align: right;\">\n",
       "      <th></th>\n",
       "      <th>Month</th>\n",
       "      <th>Sales</th>\n",
       "    </tr>\n",
       "  </thead>\n",
       "  <tbody>\n",
       "    <tr>\n",
       "      <th>0</th>\n",
       "      <td>21-Apr</td>\n",
       "      <td>4612272.05</td>\n",
       "    </tr>\n",
       "    <tr>\n",
       "      <th>1</th>\n",
       "      <td>21-May</td>\n",
       "      <td>6234826.24</td>\n",
       "    </tr>\n",
       "    <tr>\n",
       "      <th>2</th>\n",
       "      <td>21-Jun</td>\n",
       "      <td>6776599.59</td>\n",
       "    </tr>\n",
       "    <tr>\n",
       "      <th>3</th>\n",
       "      <td>21-Jul</td>\n",
       "      <td>4612883.42</td>\n",
       "    </tr>\n",
       "    <tr>\n",
       "      <th>4</th>\n",
       "      <td>21-Aug</td>\n",
       "      <td>4240096.38</td>\n",
       "    </tr>\n",
       "  </tbody>\n",
       "</table>\n",
       "</div>"
      ],
      "text/plain": [
       "    Month       Sales\n",
       "0  21-Apr  4612272.05\n",
       "1  21-May  6234826.24\n",
       "2  21-Jun  6776599.59\n",
       "3  21-Jul  4612883.42\n",
       "4  21-Aug  4240096.38"
      ]
     },
     "execution_count": 6,
     "metadata": {},
     "output_type": "execute_result"
    }
   ],
   "source": [
    "df=pd.read_csv('Desktop/Tetley Green Tea Lemon & Honey 100S Teabags.csv')\n",
    "df=df.dropna()\n",
    "df.head()"
   ]
  },
  {
   "cell_type": "code",
   "execution_count": 8,
   "id": "2b150b10",
   "metadata": {},
   "outputs": [
    {
     "data": {
      "text/plain": [
       "<AxesSubplot:>"
      ]
     },
     "execution_count": 8,
     "metadata": {},
     "output_type": "execute_result"
    },
    {
     "data": {
      "image/png": "[encoded data removed]",
      "text/plain": [
       "<Figure size 864x360 with 1 Axes>"
      ]
     },
     "metadata": {
      "needs_background": "light"
     },
     "output_type": "display_data"
    }
   ],
   "source": [
    "df['Sales'].plot(figsize=(12,5))"
   ]
  },
  {
   "cell_type": "code",
   "execution_count": 13,
   "id": "5a9a6b6f",
   "metadata": {},
   "outputs": [],
   "source": [
    "from statsmodels.tsa.stattools import adfuller\n",
    "\n",
    "def ad_test(dataset):\n",
    "    dftest = adfuller(dataset, autolag = 'AIC')\n",
    "    print(\"1. ADF : \",dftest[0])\n",
    "    print(\"2. P-value : \",dftest[1])\n",
    "    print(\"3. No of Lags : \",dftest[2])\n",
    "    print(\"4. No of observation : \",dftest[3])\n",
    "    print(\"5. Critical Value : \")\n",
    "    for key, val in dftest[4].items():\n",
    "        print(\"\\t\",key, \": \",val)"
   ]
  },
  {
   "cell_type": "code",
   "execution_count": 14,
   "id": "799ed333",
   "metadata": {},
   "outputs": [
    {
     "name": "stdout",
     "output_type": "stream",
     "text": [
      "1. ADF :  -3.1589423158394263\n",
      "2. P-value :  0.022487697638552146\n",
      "3. No of Lags :  0\n",
      "4. No of observation :  13\n",
      "5. Critical Value : \n",
      "\t 1% :  -4.068853732362312\n",
      "\t 5% :  -3.1271488757396453\n",
      "\t 10% :  -2.7017297633136095\n"
     ]
    }
   ],
   "source": [
    "ad_test(df['Sales'])"
   ]
  },
  {
   "cell_type": "code",
   "execution_count": 15,
   "id": "bfc0896c",
   "metadata": {},
   "outputs": [],
   "source": [
    "from pmdarima import auto_arima\n",
    "import warnings\n",
    "warnings.filterwarnings(\"ignore\")"
   ]
  },
  {
   "cell_type": "raw",
   "id": "c04fa53f",
   "metadata": {},
   "source": [
    "stepwise_fit = auto_arima(df['Sales'], trace=True,\n",
    "                         suppress_warnings=True)\n",
    "\n",
    "stepwise_fit.summary()"
   ]
  },
  {
   "cell_type": "code",
   "execution_count": 17,
   "id": "1f216014",
   "metadata": {},
   "outputs": [],
   "source": [
    "from statsmodels.tsa.arima_model import ARIMA"
   ]
  },
  {
   "cell_type": "code",
   "execution_count": 18,
   "id": "4929cad1",
   "metadata": {},
   "outputs": [
    {
     "name": "stdout",
     "output_type": "stream",
     "text": [
      "(14, 2)\n"
     ]
    }
   ],
   "source": [
    "print(df.shape)"
   ]
  },
  {
   "cell_type": "code",
   "execution_count": 66,
   "id": "9caa3f99",
   "metadata": {},
   "outputs": [
    {
     "name": "stdout",
     "output_type": "stream",
     "text": [
      "(0, 2) (14, 2)\n"
     ]
    }
   ],
   "source": [
    "train=df.iloc[:-30]\n",
    "test=df.iloc[-30:]\n",
    "print(train.shape,test.shape)"
   ]
  },
  {
   "cell_type": "code",
   "execution_count": 102,
   "id": "c99a1803",
   "metadata": {},
   "outputs": [
    {
     "data": {
      "text/html": [
       "<table class=\"simpletable\">\n",
       "<caption>SARIMAX Results</caption>\n",
       "<tr>\n",
       "  <th>Dep. Variable:</th>         <td>Sales</td>      <th>  No. Observations:  </th>    <td>14</td>   \n",
       "</tr>\n",
       "<tr>\n",
       "  <th>Model:</th>            <td>ARIMA(2, 0, 2)</td>  <th>  Log Likelihood     </th> <td>-216.506</td>\n",
       "</tr>\n",
       "<tr>\n",
       "  <th>Date:</th>            <td>Mon, 05 Sep 2022</td> <th>  AIC                </th>  <td>445.012</td>\n",
       "</tr>\n",
       "<tr>\n",
       "  <th>Time:</th>                <td>15:47:43</td>     <th>  BIC                </th>  <td>448.847</td>\n",
       "</tr>\n",
       "<tr>\n",
       "  <th>Sample:</th>                  <td>0</td>        <th>  HQIC               </th>  <td>444.658</td>\n",
       "</tr>\n",
       "<tr>\n",
       "  <th></th>                       <td> - 14</td>      <th>                     </th>     <td> </td>   \n",
       "</tr>\n",
       "<tr>\n",
       "  <th>Covariance Type:</th>        <td>opg</td>       <th>                     </th>     <td> </td>   \n",
       "</tr>\n",
       "</table>\n",
       "<table class=\"simpletable\">\n",
       "<tr>\n",
       "     <td></td>       <th>coef</th>     <th>std err</th>      <th>z</th>      <th>P>|z|</th>  <th>[0.025</th>    <th>0.975]</th>  \n",
       "</tr>\n",
       "<tr>\n",
       "  <th>const</th>  <td> 4.706e+06</td> <td> 3.37e+05</td> <td>   13.950</td> <td> 0.000</td> <td> 4.04e+06</td> <td> 5.37e+06</td>\n",
       "</tr>\n",
       "<tr>\n",
       "  <th>ar.L1</th>  <td>    0.7240</td> <td>    0.395</td> <td>    1.834</td> <td> 0.067</td> <td>   -0.050</td> <td>    1.498</td>\n",
       "</tr>\n",
       "<tr>\n",
       "  <th>ar.L2</th>  <td>   -0.9129</td> <td>    0.219</td> <td>   -4.160</td> <td> 0.000</td> <td>   -1.343</td> <td>   -0.483</td>\n",
       "</tr>\n",
       "<tr>\n",
       "  <th>ma.L1</th>  <td>   -0.9549</td> <td>    0.583</td> <td>   -1.637</td> <td> 0.102</td> <td>   -2.098</td> <td>    0.189</td>\n",
       "</tr>\n",
       "<tr>\n",
       "  <th>ma.L2</th>  <td>    1.0000</td> <td>    0.672</td> <td>    1.489</td> <td> 0.137</td> <td>   -0.317</td> <td>    2.317</td>\n",
       "</tr>\n",
       "<tr>\n",
       "  <th>sigma2</th> <td> 1.117e+12</td> <td> 4.22e-07</td> <td> 2.65e+18</td> <td> 0.000</td> <td> 1.12e+12</td> <td> 1.12e+12</td>\n",
       "</tr>\n",
       "</table>\n",
       "<table class=\"simpletable\">\n",
       "<tr>\n",
       "  <th>Ljung-Box (L1) (Q):</th>     <td>0.62</td> <th>  Jarque-Bera (JB):  </th> <td>1.53</td>\n",
       "</tr>\n",
       "<tr>\n",
       "  <th>Prob(Q):</th>                <td>0.43</td> <th>  Prob(JB):          </th> <td>0.47</td>\n",
       "</tr>\n",
       "<tr>\n",
       "  <th>Heteroskedasticity (H):</th> <td>0.68</td> <th>  Skew:              </th> <td>0.76</td>\n",
       "</tr>\n",
       "<tr>\n",
       "  <th>Prob(H) (two-sided):</th>    <td>0.68</td> <th>  Kurtosis:          </th> <td>2.43</td>\n",
       "</tr>\n",
       "</table><br/><br/>Warnings:<br/>[1] Covariance matrix calculated using the outer product of gradients (complex-step).<br/>[2] Covariance matrix is singular or near-singular, with condition number 4.57e+39. Standard errors may be unstable."
      ],
      "text/plain": [
       "<class 'statsmodels.iolib.summary.Summary'>\n",
       "\"\"\"\n",
       "                               SARIMAX Results                                \n",
       "==============================================================================\n",
       "Dep. Variable:                  Sales   No. Observations:                   14\n",
       "Model:                 ARIMA(2, 0, 2)   Log Likelihood                -216.506\n",
       "Date:                Mon, 05 Sep 2022   AIC                            445.012\n",
       "Time:                        15:47:43   BIC                            448.847\n",
       "Sample:                             0   HQIC                           444.658\n",
       "                                 - 14                                         \n",
       "Covariance Type:                  opg                                         \n",
       "==============================================================================\n",
       "                 coef    std err          z      P>|z|      [0.025      0.975]\n",
       "------------------------------------------------------------------------------\n",
       "const       4.706e+06   3.37e+05     13.950      0.000    4.04e+06    5.37e+06\n",
       "ar.L1          0.7240      0.395      1.834      0.067      -0.050       1.498\n",
       "ar.L2         -0.9129      0.219     -4.160      0.000      -1.343      -0.483\n",
       "ma.L1         -0.9549      0.583     -1.637      0.102      -2.098       0.189\n",
       "ma.L2          1.0000      0.672      1.489      0.137      -0.317       2.317\n",
       "sigma2      1.117e+12   4.22e-07   2.65e+18      0.000    1.12e+12    1.12e+12\n",
       "===================================================================================\n",
       "Ljung-Box (L1) (Q):                   0.62   Jarque-Bera (JB):                 1.53\n",
       "Prob(Q):                              0.43   Prob(JB):                         0.47\n",
       "Heteroskedasticity (H):               0.68   Skew:                             0.76\n",
       "Prob(H) (two-sided):                  0.68   Kurtosis:                         2.43\n",
       "===================================================================================\n",
       "\n",
       "Warnings:\n",
       "[1] Covariance matrix calculated using the outer product of gradients (complex-step).\n",
       "[2] Covariance matrix is singular or near-singular, with condition number 4.57e+39. Standard errors may be unstable.\n",
       "\"\"\""
      ]
     },
     "execution_count": 102,
     "metadata": {},
     "output_type": "execute_result"
    }
   ],
   "source": [
    "from statsmodels.tsa.arima_model import ARIMA\n",
    "import statsmodels.api as sm\n",
    "model = sm.tsa.arima.ARIMA(df['Sales'], order=(2,0,2))\n",
    "model_fit = model.fit()\n",
    "model_fit.summary()"
   ]
  },
  {
   "cell_type": "code",
   "execution_count": 103,
   "id": "17843f9c",
   "metadata": {},
   "outputs": [
    {
     "name": "stdout",
     "output_type": "stream",
     "text": [
      "0     4.705969e+06\n",
      "1     4.714510e+06\n",
      "2     4.556034e+06\n",
      "3     4.046652e+06\n",
      "4     4.055713e+06\n",
      "5     4.758372e+06\n",
      "6     5.467907e+06\n",
      "7     4.878170e+06\n",
      "8     4.183621e+06\n",
      "9     4.433645e+06\n",
      "10    5.053035e+06\n",
      "11    5.459628e+06\n",
      "12    5.238289e+06\n",
      "13    4.543309e+06\n",
      "Name: predicted_mean, dtype: float64\n"
     ]
    }
   ],
   "source": [
    "start=len(train)\n",
    "end=len(train)+len(test)-1\n",
    "pred=model_fit.predict(start=start,end=end,typ='levels')\n",
    "print(pred)"
   ]
  },
  {
   "cell_type": "code",
   "execution_count": 104,
   "id": "8744913a",
   "metadata": {},
   "outputs": [
    {
     "data": {
      "text/plain": [
       "<AxesSubplot:>"
      ]
     },
     "execution_count": 104,
     "metadata": {},
     "output_type": "execute_result"
    },
    {
     "data": {
      "image/png": "[encoded data removed]",
      "text/plain": [
       "<Figure size 864x576 with 1 Axes>"
      ]
     },
     "metadata": {
      "needs_background": "light"
     },
     "output_type": "display_data"
    }
   ],
   "source": [
    "df['forecast']=model_fit.predict(start=2,end=13,dynamic=True)\n",
    "df[['Sales','forecast']].plot(figsize=(12,8))\n",
    "#model_fit.plot_predict(dynamic=False)"
   ]
  },
  {
   "cell_type": "code",
   "execution_count": 105,
   "id": "d2a328bf",
   "metadata": {},
   "outputs": [
    {
     "data": {
      "text/plain": [
       "<AxesSubplot:>"
      ]
     },
     "execution_count": 105,
     "metadata": {},
     "output_type": "execute_result"
    },
    {
     "data": {
      "image/png": "[encoded data removed]",
      "text/plain": [
       "<Figure size 432x288 with 1 Axes>"
      ]
     },
     "metadata": {
      "needs_background": "light"
     },
     "output_type": "display_data"
    }
   ],
   "source": [
    "pred.plot(legend=True)\n",
    "test['Sales'].plot(legend=True)"
   ]
  },
  {
   "cell_type": "code",
   "execution_count": 106,
   "id": "a5c49655",
   "metadata": {},
   "outputs": [
    {
     "data": {
      "text/plain": [
       "4705968.965714285"
      ]
     },
     "execution_count": 106,
     "metadata": {},
     "output_type": "execute_result"
    }
   ],
   "source": [
    "test['Sales'].mean()"
   ]
  },
  {
   "cell_type": "code",
   "execution_count": 107,
   "id": "038baa2c",
   "metadata": {},
   "outputs": [
    {
     "name": "stdout",
     "output_type": "stream",
     "text": [
      "1251994.9190188588\n"
     ]
    }
   ],
   "source": [
    "from sklearn.metrics import mean_squared_error\n",
    "from math import sqrt\n",
    "rmse=sqrt(mean_squared_error(pred,test['Sales']))\n",
    "print(rmse)"
   ]
  },
  {
   "cell_type": "code",
   "execution_count": 112,
   "id": "5c135256",
   "metadata": {},
   "outputs": [
    {
     "data": {
      "text/html": [
       "<div>\n",
       "<style scoped>\n",
       "    .dataframe tbody tr th:only-of-type {\n",
       "        vertical-align: middle;\n",
       "    }\n",
       "\n",
       "    .dataframe tbody tr th {\n",
       "        vertical-align: top;\n",
       "    }\n",
       "\n",
       "    .dataframe thead th {\n",
       "        text-align: right;\n",
       "    }\n",
       "</style>\n",
       "<table border=\"1\" class=\"dataframe\">\n",
       "  <thead>\n",
       "    <tr style=\"text-align: right;\">\n",
       "      <th></th>\n",
       "      <th>Month</th>\n",
       "      <th>Sales</th>\n",
       "      <th>forecast</th>\n",
       "    </tr>\n",
       "  </thead>\n",
       "  <tbody>\n",
       "    <tr>\n",
       "      <th>9</th>\n",
       "      <td>22-Jan</td>\n",
       "      <td>4274876.50</td>\n",
       "      <td>4.534198e+06</td>\n",
       "    </tr>\n",
       "    <tr>\n",
       "      <th>10</th>\n",
       "      <td>22-Feb</td>\n",
       "      <td>3642421.83</td>\n",
       "      <td>4.817519e+06</td>\n",
       "    </tr>\n",
       "    <tr>\n",
       "      <th>11</th>\n",
       "      <td>22-Mar</td>\n",
       "      <td>4000000.00</td>\n",
       "      <td>4.943538e+06</td>\n",
       "    </tr>\n",
       "    <tr>\n",
       "      <th>12</th>\n",
       "      <td>22-Apr</td>\n",
       "      <td>4580822.71</td>\n",
       "      <td>4.776132e+06</td>\n",
       "    </tr>\n",
       "    <tr>\n",
       "      <th>13</th>\n",
       "      <td>22-May</td>\n",
       "      <td>4343171.51</td>\n",
       "      <td>4.539891e+06</td>\n",
       "    </tr>\n",
       "  </tbody>\n",
       "</table>\n",
       "</div>"
      ],
      "text/plain": [
       "     Month       Sales      forecast\n",
       "9   22-Jan  4274876.50  4.534198e+06\n",
       "10  22-Feb  3642421.83  4.817519e+06\n",
       "11  22-Mar  4000000.00  4.943538e+06\n",
       "12  22-Apr  4580822.71  4.776132e+06\n",
       "13  22-May  4343171.51  4.539891e+06"
      ]
     },
     "execution_count": 112,
     "metadata": {},
     "output_type": "execute_result"
    }
   ],
   "source": [
    "model2 = sm.tsa.arima.ARIMA(df['Sales'], order=(2,0,2))\n",
    "model2_fit = model2.fit()\n",
    "df.tail()\n",
    "#model_fit.summary()"
   ]
  },
  {
   "cell_type": "code",
   "execution_count": 109,
   "id": "8892f74c",
   "metadata": {},
   "outputs": [
    {
     "name": "stdout",
     "output_type": "stream",
     "text": [
      "14     4.147852e+06\n",
      "15     4.452388e+06\n",
      "16     5.031881e+06\n",
      "17     5.173416e+06\n",
      "18     4.746871e+06\n",
      "           ...     \n",
      "190    4.705819e+06\n",
      "191    4.706010e+06\n",
      "192    4.706135e+06\n",
      "193    4.706052e+06\n",
      "194    4.705877e+06\n",
      "Name: AREMA PRED, Length: 181, dtype: float64\n"
     ]
    }
   ],
   "source": [
    "pred=model2_fit.predict(start=len(df),end=len(df)+180,typ='levels').rename('AREMA PRED')\n",
    "#pred.index=index_future_dates\n",
    "#test['Sales'].plot(legend=True)\n",
    "print(pred)"
   ]
  },
  {
   "cell_type": "code",
   "execution_count": 110,
   "id": "62e8786d",
   "metadata": {},
   "outputs": [
    {
     "data": {
      "text/plain": [
       "<AxesSubplot:>"
      ]
     },
     "execution_count": 110,
     "metadata": {},
     "output_type": "execute_result"
    },
    {
     "data": {
      "image/png": "[encoded data removed]",
      "text/plain": [
       "<Figure size 864x360 with 1 Axes>"
      ]
     },
     "metadata": {
      "needs_background": "light"
     },
     "output_type": "display_data"
    }
   ],
   "source": [
    "pred.plot(figsize=(12,5),legend=True)"
   ]
  },
  {
   "cell_type": "code",
   "execution_count": null,
   "id": "a1941318",
   "metadata": {},
   "outputs": [],
   "source": []
  }
 ],
 "metadata": {
  "kernelspec": {
   "display_name": "Python 3 (ipykernel)",
   "language": "python",
   "name": "python3"
  },
  "language_info": {
   "codemirror_mode": {
    "name": "ipython",
    "version": 3
   },
   "file_extension": ".py",
   "mimetype": "text/x-python",
   "name": "python",
   "nbconvert_exporter": "python",
   "pygments_lexer": "ipython3",
   "version": "3.9.12"
  }
 },
 "nbformat": 4,
 "nbformat_minor": 5
}
