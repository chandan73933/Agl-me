{
 "cells": [
  {
   "cell_type": "code",
   "execution_count": 1,
   "id": "e2b406c4",
   "metadata": {},
   "outputs": [],
   "source": [
    "import pandas as pd\n",
    "import numpy as np\n",
    "import matplotlib.pyplot as plt\n",
    "import seaborn as sns\n",
    "%matplotlib inLine\n",
    "from apyori import apriori\n",
    "from sklearn.cluster import KMeans\n",
    "from sklearn.preprocessing import MinMaxScaler\n",
    "import scipy.stats as st"
   ]
  },
  {
   "cell_type": "code",
   "execution_count": 2,
   "id": "5b617890",
   "metadata": {},
   "outputs": [
    {
     "name": "stdout",
     "output_type": "stream",
     "text": [
      "Requirement already satisfied: pyodbc in c:\\users\\agl\\anaconda3\\lib\\site-packages (4.0.32)\n",
      "Note: you may need to restart the kernel to use updated packages.\n"
     ]
    }
   ],
   "source": [
    "pip install pyodbc"
   ]
  },
  {
   "cell_type": "code",
   "execution_count": 3,
   "id": "4ee04979",
   "metadata": {},
   "outputs": [
    {
     "data": {
      "text/plain": [
       "['SQL Server',\n",
       " 'SQL Server Native Client 11.0',\n",
       " 'ODBC Driver 13 for SQL Server',\n",
       " 'SQL Server Native Client RDA 11.0']"
      ]
     },
     "execution_count": 3,
     "metadata": {},
     "output_type": "execute_result"
    }
   ],
   "source": [
    "import pyodbc\n",
    "pyodbc.drivers()"
   ]
  },
  {
   "cell_type": "code",
   "execution_count": 4,
   "id": "f95e8bcb",
   "metadata": {},
   "outputs": [
    {
     "name": "stdout",
     "output_type": "stream",
     "text": [
      "Requirement already satisfied: mysql in c:\\users\\agl\\anaconda3\\lib\\site-packages (0.0.3)Note: you may need to restart the kernel to use updated packages.\n",
      "Requirement already satisfied: mysqlclient in c:\\users\\agl\\anaconda3\\lib\\site-packages (from mysql) (2.1.1)\n",
      "\n"
     ]
    }
   ],
   "source": [
    "pip install mysql"
   ]
  },
  {
   "cell_type": "code",
   "execution_count": 5,
   "id": "fd6cfb0a",
   "metadata": {},
   "outputs": [
    {
     "name": "stdout",
     "output_type": "stream",
     "text": [
      "Requirement already satisfied: mysql-connector-python in c:\\users\\agl\\anaconda3\\lib\\site-packages (8.0.30)\n",
      "Requirement already satisfied: protobuf<=3.20.1,>=3.11.0 in c:\\users\\agl\\anaconda3\\lib\\site-packages (from mysql-connector-python) (3.19.1)\n",
      "Note: you may need to restart the kernel to use updated packages.\n"
     ]
    }
   ],
   "source": [
    "pip install mysql-connector-python"
   ]
  },
  {
   "cell_type": "code",
   "execution_count": 6,
   "id": "d3fd060d",
   "metadata": {},
   "outputs": [],
   "source": [
    "conn = pyodbc.connect(\n",
    "    Trusted_Connection='Yes',\n",
    "    Driver='ODBC Driver 13 for SQL Server',\n",
    "    Server='DESKTOP-8NHRDO2\\SA',\n",
    "    Database='rts'\n",
    ")\n",
    "\n",
    "cursor = conn.cursor()"
   ]
  },
  {
   "cell_type": "code",
   "execution_count": 7,
   "id": "c38187f5",
   "metadata": {},
   "outputs": [],
   "source": [
    "#cursor.execute(\"SELECT * FROM rts.dbo.Iris\")"
   ]
  },
  {
   "cell_type": "code",
   "execution_count": 8,
   "id": "3ea38c5a",
   "metadata": {},
   "outputs": [
    {
     "name": "stderr",
     "output_type": "stream",
     "text": [
      "C:\\Users\\AGL\\AppData\\Local\\Temp\\ipykernel_1688\\4072823610.py:1: DtypeWarning: Columns (11,12,21,22,26,42) have mixed types. Specify dtype option on import or set low_memory=False.\n",
      "  df=pd.read_csv(\"Desktop/customerdata.csv\")\n"
     ]
    }
   ],
   "source": [
    "df=pd.read_csv(\"Desktop/customerdata.csv\")\n"
   ]
  },
  {
   "cell_type": "code",
   "execution_count": null,
   "id": "e53132ac",
   "metadata": {},
   "outputs": [],
   "source": []
  },
  {
   "cell_type": "code",
   "execution_count": null,
   "id": "dc7a5195",
   "metadata": {},
   "outputs": [],
   "source": []
  },
  {
   "cell_type": "code",
   "execution_count": 11,
   "id": "625b9948",
   "metadata": {},
   "outputs": [
    {
     "data": {
      "text/plain": [
       "<pyodbc.Cursor at 0x2b4ba3f01b0>"
      ]
     },
     "execution_count": 11,
     "metadata": {},
     "output_type": "execute_result"
    }
   ],
   "source": [
    "cursor.execute(\"SELECT canonical_id FROM rts.dbo.cdp where created =date_of_purchase\")"
   ]
  },
  {
   "cell_type": "code",
   "execution_count": 12,
   "id": "aa62f013",
   "metadata": {},
   "outputs": [
    {
     "name": "stdout",
     "output_type": "stream",
     "text": [
      "('THk7oPACqlnI', )\n",
      "('K_zBp3SmA9_I', )\n",
      "('CG5-KJrG90XI', )\n",
      "('8pqH2l23LdjI', )\n",
      "('gY4oW4__QUXI', )\n",
      "('_4KjVzP5IbbI', )\n",
      "('xwsof2kGYybI', )\n",
      "('xI3xdFQOc3bI', )\n",
      "('PUIjazK8hOrI', )\n",
      "('O3EQk1-u6n7I', )\n",
      "('FHm_TxHqbATI', )\n",
      "('Hzki3gncabjI', )\n",
      "('uHuAjRAyPJrI', )\n",
      "('zHw-4hwoQ7jI', )\n",
      "('c4vzjZtPHlzI', )\n",
      "('ZUMEfVuojrPI', )\n",
      "('ZJoIwZCYgADI', )\n",
      "('gnUipVN2NwPI', )\n",
      "('0mGxSH7w3eTI', )\n",
      "('AM8yol_t-lDI', )\n",
      "('wY_OXHhl1qrI', )\n",
      "('gOn6KZ2MTizI', )\n",
      "('ddJI9kbJCafI', )\n",
      "('U3mIlZI32HXI', )\n",
      "('U3mIlZI32HXI', )\n",
      "('-tKyXpBr6vnI', )\n",
      "('yclBwWE6X97I', )\n",
      "('xzJflEIxZ_fI', )\n",
      "('USSZMjCp7CrI', )\n",
      "('Xr1gbiguan3I', )\n",
      "('SuR4rGExjirI', )\n",
      "('HDnWEidLfC3I', )\n",
      "('J3-7gyqe0LLI', )\n",
      "('G73q6_FM94TI', )\n",
      "('e9dOQMOM10XI', )\n",
      "('_7q36zIL4g_I', )\n",
      "('y8dABxPgt93I', )\n",
      "('4YIAnM_VzDvI', )\n",
      "('VbWLJsSGzGLI', )\n",
      "('dwFVG9-ibxvI', )\n",
      "('2l2sgfNfynHI', )\n",
      "('MxuOq1UKJR_I', )\n",
      "('MhtTueEjv9rI', )\n",
      "('D-fj3nwX3ejI', )\n",
      "('naAqgHugw3_I', )\n",
      "('hoVZMIrZ1PTI', )\n",
      "('0qMtukjDuGzI', )\n",
      "('i9L10Z4yj_bI', )\n",
      "('xXVuu8e-x17I', )\n",
      "('4dh1-Jcmb8DI', )\n",
      "('uff4fUNoq07I', )\n",
      "('5IR41C_ELoHI', )\n",
      "('jBssXMqjHPrI', )\n",
      "('1iZS9-IQHp_I', )\n",
      "('opT0r9FR-SfI', )\n",
      "('yY30kBojSSHI', )\n",
      "('KIU17gYgUajI', )\n",
      "('KIU17gYgUajI', )\n",
      "('KIU17gYgUajI', )\n",
      "('AHgNSgyaM8HI', )\n",
      "('A1gfAdDlPhXI', )\n",
      "('oLqvEP5UvGnI', )\n",
      "('z_mVQD3vvi7I', )\n",
      "('-u4_RiggVOjI', )\n"
     ]
    }
   ],
   "source": [
    "for row in cursor:\n",
    "    print(row)"
   ]
  },
  {
   "cell_type": "code",
   "execution_count": 13,
   "id": "cb108510",
   "metadata": {},
   "outputs": [
    {
     "data": {
      "image/png": "[encoded data removed]",
      "text/plain": [
       "<Figure size 432x288 with 1 Axes>"
      ]
     },
     "metadata": {
      "needs_background": "light"
     },
     "output_type": "display_data"
    }
   ],
   "source": [
    "#ploting the overlap between feature\n",
    "plt.scatter(df.head(20)['created'],df.head(20)['industry_std_desc'],)\n",
    "plt.xlabel('created')\n",
    "plt.ylabel('industry_std_desc')\n",
    "plt.show()"
   ]
  },
  {
   "cell_type": "code",
   "execution_count": 14,
   "id": "dbd0a6d2",
   "metadata": {},
   "outputs": [
    {
     "data": {
      "text/plain": [
       "<pyodbc.Cursor at 0x2b4ba3f01b0>"
      ]
     },
     "execution_count": 14,
     "metadata": {},
     "output_type": "execute_result"
    }
   ],
   "source": [
    "#List of Customer purchased multiple product\n",
    "cursor.execute(\"SELECT COUNT(product_hierarchy_tokyo_6d_4d),cdp_customer_id FROM rts.dbo.cdp GROUP BY cdp_customer_id HAVING COUNT(product_hierarchy_tokyo_6d_4d)  > 2 \")"
   ]
  },
  {
   "cell_type": "code",
   "execution_count": 15,
   "id": "140e676c",
   "metadata": {},
   "outputs": [
    {
     "name": "stdout",
     "output_type": "stream",
     "text": [
      "(6, '0463c8e31553775f33065b2206bcb6b6e31644b0')\n",
      "(5, '05393ff307b08f6180ccd5c6012b25f6d7d467e8')\n",
      "(5, '0ebff50e2949776cdf1a683891936dc94ae53bd7')\n",
      "(3, '0f4263afcb942391e449bb23f61d00de436d2097')\n",
      "(3, '1174fc761d39599ce9dae0312d26717dce50b38a')\n",
      "(3, '24504234e352d001a188e99f501c7578c5603072')\n",
      "(3, '260782c28ffa0cace7cb7a56d7c49a0fef230b21')\n",
      "(3, '2b4d2cd92268920dae910489a4e88dc4e9e05568')\n",
      "(3, '2dda556d1ad4b33fb09138bc0a7f9524e3e3b130')\n",
      "(3, '2ed454d1f957a4b7747f69328fd087479a02d293')\n",
      "(4, '2fb5e8fa3d0c092c435e7dfc4d1fb954a232f9be')\n",
      "(5, '3211b33371b7f74dc2418e0821daf1d8cafb0887')\n",
      "(4, '375bb4b47962e88b8a0ef5d4d8819bdd52891ee8')\n",
      "(3, '3902692b4eba515f57fa438e983c07786fd0c1fb')\n",
      "(3, '3debfd0f387951386e4d5f6f734690031d3f32fa')\n",
      "(5, '3ffec63a3e9753754fe2704659bf046ad2ec370a')\n",
      "(3, '40c78658b018884cad1b8e1c5f60c07ec8d26888')\n",
      "(5, '4aa02fbe2f335bb1e79001afd45f0d59a393b1e6')\n",
      "(7, '4d1af6ec56415014d442318747f034f382e1ba80')\n",
      "(3, '4e8bafcc5bb1cc20bcd6884c7839b466d582d017')\n",
      "(3, '512fbb64b4360ef5406e9f9289852ed22fbec69b')\n",
      "(3, '5558099eab977b0143751ccecf0f87c8bcf608e6')\n",
      "(4, '572076d9118353ef16f379651d39a18920467cb0')\n",
      "(3, '57d99d8c1796886226e693bbeabc5079a89a8195')\n",
      "(3, '5a177df5b5891b6c4f7a03ed681640b37addf79c')\n",
      "(5, '619383ab8178d039b5e9129996471a282703d507')\n",
      "(3, '6910f6635fc7938a4c514a37ecf10f2cea7b7004')\n",
      "(5, '6a098cdd8185de1d7e8d543344c113d80680ef3d')\n",
      "(3, '6ad7c80c64bdfd70adc5604c41d1498044700e14')\n",
      "(5, '6ced39be051c9eb3cfdaa69c9ea9bcd51f0abf35')\n",
      "(5, '6d5a7d08b0bf7eaad4e1b6e58fb46c9eff83807e')\n",
      "(3, '75d145ed4ec0162fee7f87fdd6dce115bce343d5')\n",
      "(3, '765b697a359afbd5941506cd306a8dc3e621dc83')\n",
      "(5, '7905e47d02f2ef390132095fb60733c8345f1801')\n",
      "(5, '7b100c2dde16de3e02d1c72fdc182eb27f937023')\n",
      "(5, '89ad542fe36103ef772942d3a09bf5d341e2001b')\n",
      "(7, '90315f357f54f0685c4592a88694d40afabbe94a')\n",
      "(3, '9482732a6dae31c4388af54a3b7a2d7318a0c4ef')\n",
      "(3, '9726449f1829b08948f4d778fcd89c21ac56a8a0')\n",
      "(6, 'a3425d37b983af1c5b1b0c463071f499c00fc23c')\n",
      "(4, 'a34d2ff79b698e8cc2b865efeea4b7939e2d1cab')\n",
      "(3, 'ab531c5ba54c9b412b6d8107a18cf68ff9de2427')\n",
      "(5, 'b56a526c3167d7b99ff788915ec6400d29f22930')\n",
      "(3, 'b7f7949606acf65e327ce8136b41cb5ee08abbd1')\n",
      "(5, 'bf1eebbf2edfc8e429c9782be8d4b15ee84532ae')\n",
      "(3, 'bf88aa2c2d013150e51cfaaad7471c2028b1c4ab')\n",
      "(4, 'c08e2d667d244db03cd5b584bd4a393fbd454eda')\n",
      "(3, 'c38aafa8d2674a541d123dc2ba8ebb46e6c15c21')\n",
      "(7, 'c4cf879d7a0d809bb7a34488708b097bf85505a7')\n",
      "(3, 'c5398acaf2378ccec4b6de5c76797a7aa61702b4')\n",
      "(3, 'c96df8be7ba8c3eab2c2fe5dddd34a135f7feaea')\n",
      "(11, 'ca2c36fd84231c0563f0c09db6cec326dfd10563')\n",
      "(3, 'd17c9a33b4caaacea251805bf6a0ad586f39d435')\n",
      "(4, 'd3c2332b44e4e5e564820edfdf655c23b72aac2e')\n",
      "(5, 'd3da280a6517cef96871bdc0d6a1113ea36d98c4')\n",
      "(4, 'd4802483ad203df7ffb9d84719e610e7cbd3fa5f')\n",
      "(4, 'd52542ffb4c2bd095719f8d17840e57066afbcc2')\n",
      "(7, 'd8adc505f7238ad9156caf1be60bcc4360c7f422')\n",
      "(3, 'd8fe55cef43cca2307dc06abde7c4cf9153986ee')\n",
      "(4, 'da2c9e4e0d8a0e44f153c0c2aef5634a2279395e')\n",
      "(3, 'dbcd8f558d281dd56870b9743a491b9d7df0d260')\n",
      "(3, 'dc7d5f975be4218322104e80d09270a59b619136')\n",
      "(3, 'e0fe8a19857241d59e3a102d108297a869304ca3')\n",
      "(4, 'e99a774664c0780bf6557d010ca9f07d64862d52')\n",
      "(3, 'ec60263fcfe41dd9182e10b6061deaa19587e408')\n",
      "(6, 'f1d64a195d32aa07dad62ff9bdc8a51a5d6955a1')\n",
      "(4, 'f4db5a89d15b3637621cc9fcd5a748b6bdc32b0e')\n",
      "(3, 'f5ee1b8811c2da47730fd1bb3cbe81bdc92a6ea0')\n",
      "(7, 'f892db4e09a42e9fe08ff50823e7179996b45047')\n",
      "(4, 'fc053be172f5da219c261cc0d5e43fb10effe80c')\n",
      "(5, 'fd65c4165ddeb9d1a0df062c0d1ce6071644c39d')\n",
      "(3, 'fe100524fac2b00d4e4bd0c6c9c2e03e085e135e')\n",
      "(7, 'ff5da7abb46ea7b4c13ebe9cbf39748ee15c99d6')\n"
     ]
    }
   ],
   "source": [
    "for row in cursor:\n",
    "    print(row)"
   ]
  },
  {
   "cell_type": "code",
   "execution_count": 16,
   "id": "7a46ea1b",
   "metadata": {},
   "outputs": [
    {
     "data": {
      "text/plain": [
       "<pyodbc.Cursor at 0x2b4ba3f01b0>"
      ]
     },
     "execution_count": 16,
     "metadata": {},
     "output_type": "execute_result"
    }
   ],
   "source": [
    "#list of Customer purchased multiple product after making a specific call like installation request\n",
    "cursor.execute(\"SELECT cdp_customer_id,call_type FROM rts.dbo.cdp where call_type='Installation' AND cdp_customer_id in (SELECT cdp_customer_id FROM rts.dbo.cdp GROUP BY cdp_customer_id HAVING COUNT(product_hierarchy_tokyo_6d_4d) > 2 )\")"
   ]
  },
  {
   "cell_type": "code",
   "execution_count": 17,
   "id": "6a4565ac",
   "metadata": {},
   "outputs": [
    {
     "name": "stdout",
     "output_type": "stream",
     "text": [
      "('0ebff50e2949776cdf1a683891936dc94ae53bd7', 'Installation')\n",
      "('0f4263afcb942391e449bb23f61d00de436d2097', 'Installation')\n",
      "('1174fc761d39599ce9dae0312d26717dce50b38a', 'Installation')\n",
      "('1174fc761d39599ce9dae0312d26717dce50b38a', 'Installation')\n",
      "('260782c28ffa0cace7cb7a56d7c49a0fef230b21', 'Installation')\n",
      "('260782c28ffa0cace7cb7a56d7c49a0fef230b21', 'Installation')\n",
      "('260782c28ffa0cace7cb7a56d7c49a0fef230b21', 'Installation')\n",
      "('2fb5e8fa3d0c092c435e7dfc4d1fb954a232f9be', 'Installation')\n",
      "('375bb4b47962e88b8a0ef5d4d8819bdd52891ee8', 'Installation')\n",
      "('3902692b4eba515f57fa438e983c07786fd0c1fb', 'Installation')\n",
      "('3ffec63a3e9753754fe2704659bf046ad2ec370a', 'Installation')\n",
      "('40c78658b018884cad1b8e1c5f60c07ec8d26888', 'Installation')\n",
      "('4d1af6ec56415014d442318747f034f382e1ba80', 'Installation')\n",
      "('4d1af6ec56415014d442318747f034f382e1ba80', 'Installation')\n",
      "('512fbb64b4360ef5406e9f9289852ed22fbec69b', 'Installation')\n",
      "('5558099eab977b0143751ccecf0f87c8bcf608e6', 'Installation')\n",
      "('5a177df5b5891b6c4f7a03ed681640b37addf79c', 'Installation')\n",
      "('5a177df5b5891b6c4f7a03ed681640b37addf79c', 'Installation')\n",
      "('6910f6635fc7938a4c514a37ecf10f2cea7b7004', 'Installation')\n",
      "('6910f6635fc7938a4c514a37ecf10f2cea7b7004', 'Installation')\n",
      "('6ad7c80c64bdfd70adc5604c41d1498044700e14', 'Installation')\n",
      "('6ced39be051c9eb3cfdaa69c9ea9bcd51f0abf35', 'Installation')\n",
      "('6d5a7d08b0bf7eaad4e1b6e58fb46c9eff83807e', 'Installation')\n",
      "('75d145ed4ec0162fee7f87fdd6dce115bce343d5', 'Installation')\n",
      "('765b697a359afbd5941506cd306a8dc3e621dc83', 'Installation')\n",
      "('7905e47d02f2ef390132095fb60733c8345f1801', 'Installation')\n",
      "('7905e47d02f2ef390132095fb60733c8345f1801', 'Installation')\n",
      "('7905e47d02f2ef390132095fb60733c8345f1801', 'Installation')\n",
      "('7905e47d02f2ef390132095fb60733c8345f1801', 'Installation')\n",
      "('7905e47d02f2ef390132095fb60733c8345f1801', 'Installation')\n",
      "('7b100c2dde16de3e02d1c72fdc182eb27f937023', 'Installation')\n",
      "('89ad542fe36103ef772942d3a09bf5d341e2001b', 'Installation')\n",
      "('90315f357f54f0685c4592a88694d40afabbe94a', 'Installation')\n",
      "('9482732a6dae31c4388af54a3b7a2d7318a0c4ef', 'Installation')\n",
      "('9726449f1829b08948f4d778fcd89c21ac56a8a0', 'Installation')\n",
      "('a34d2ff79b698e8cc2b865efeea4b7939e2d1cab', 'Installation')\n",
      "('a34d2ff79b698e8cc2b865efeea4b7939e2d1cab', 'Installation')\n",
      "('ab531c5ba54c9b412b6d8107a18cf68ff9de2427', 'Installation')\n",
      "('ab531c5ba54c9b412b6d8107a18cf68ff9de2427', 'Installation')\n",
      "('ab531c5ba54c9b412b6d8107a18cf68ff9de2427', 'Installation')\n",
      "('b56a526c3167d7b99ff788915ec6400d29f22930', 'Installation')\n",
      "('b56a526c3167d7b99ff788915ec6400d29f22930', 'Installation')\n",
      "('b56a526c3167d7b99ff788915ec6400d29f22930', 'Installation')\n",
      "('b56a526c3167d7b99ff788915ec6400d29f22930', 'Installation')\n",
      "('b56a526c3167d7b99ff788915ec6400d29f22930', 'Installation')\n",
      "('b7f7949606acf65e327ce8136b41cb5ee08abbd1', 'Installation')\n",
      "('b7f7949606acf65e327ce8136b41cb5ee08abbd1', 'Installation')\n",
      "('b7f7949606acf65e327ce8136b41cb5ee08abbd1', 'Installation')\n",
      "('c08e2d667d244db03cd5b584bd4a393fbd454eda', 'Installation')\n",
      "('c38aafa8d2674a541d123dc2ba8ebb46e6c15c21', 'Installation')\n",
      "('c5398acaf2378ccec4b6de5c76797a7aa61702b4', 'Installation')\n",
      "('d17c9a33b4caaacea251805bf6a0ad586f39d435', 'Installation')\n",
      "('d17c9a33b4caaacea251805bf6a0ad586f39d435', 'Installation')\n",
      "('d3c2332b44e4e5e564820edfdf655c23b72aac2e', 'Installation')\n",
      "('d3c2332b44e4e5e564820edfdf655c23b72aac2e', 'Installation')\n",
      "('d3c2332b44e4e5e564820edfdf655c23b72aac2e', 'Installation')\n",
      "('d4802483ad203df7ffb9d84719e610e7cbd3fa5f', 'Installation')\n",
      "('d52542ffb4c2bd095719f8d17840e57066afbcc2', 'Installation')\n",
      "('d52542ffb4c2bd095719f8d17840e57066afbcc2', 'Installation')\n",
      "('d52542ffb4c2bd095719f8d17840e57066afbcc2', 'Installation')\n",
      "('d52542ffb4c2bd095719f8d17840e57066afbcc2', 'Installation')\n",
      "('d8adc505f7238ad9156caf1be60bcc4360c7f422', 'Installation')\n",
      "('d8adc505f7238ad9156caf1be60bcc4360c7f422', 'Installation')\n",
      "('d8fe55cef43cca2307dc06abde7c4cf9153986ee', 'Installation')\n",
      "('da2c9e4e0d8a0e44f153c0c2aef5634a2279395e', 'Installation')\n",
      "('dbcd8f558d281dd56870b9743a491b9d7df0d260', 'Installation')\n",
      "('dc7d5f975be4218322104e80d09270a59b619136', 'Installation')\n",
      "('dc7d5f975be4218322104e80d09270a59b619136', 'Installation')\n",
      "('dc7d5f975be4218322104e80d09270a59b619136', 'Installation')\n",
      "('e99a774664c0780bf6557d010ca9f07d64862d52', 'Installation')\n",
      "('e99a774664c0780bf6557d010ca9f07d64862d52', 'Installation')\n",
      "('e99a774664c0780bf6557d010ca9f07d64862d52', 'Installation')\n",
      "('ec60263fcfe41dd9182e10b6061deaa19587e408', 'Installation')\n",
      "('f1d64a195d32aa07dad62ff9bdc8a51a5d6955a1', 'Installation')\n",
      "('f1d64a195d32aa07dad62ff9bdc8a51a5d6955a1', 'Installation')\n",
      "('f1d64a195d32aa07dad62ff9bdc8a51a5d6955a1', 'Installation')\n",
      "('f1d64a195d32aa07dad62ff9bdc8a51a5d6955a1', 'Installation')\n",
      "('f1d64a195d32aa07dad62ff9bdc8a51a5d6955a1', 'Installation')\n",
      "('f1d64a195d32aa07dad62ff9bdc8a51a5d6955a1', 'Installation')\n",
      "('f4db5a89d15b3637621cc9fcd5a748b6bdc32b0e', 'Installation')\n",
      "('f4db5a89d15b3637621cc9fcd5a748b6bdc32b0e', 'Installation')\n",
      "('f892db4e09a42e9fe08ff50823e7179996b45047', 'Installation')\n",
      "('f892db4e09a42e9fe08ff50823e7179996b45047', 'Installation')\n",
      "('f892db4e09a42e9fe08ff50823e7179996b45047', 'Installation')\n",
      "('fc053be172f5da219c261cc0d5e43fb10effe80c', 'Installation')\n",
      "('fd65c4165ddeb9d1a0df062c0d1ce6071644c39d', 'Installation')\n",
      "('fe100524fac2b00d4e4bd0c6c9c2e03e085e135e', 'Installation')\n",
      "('fe100524fac2b00d4e4bd0c6c9c2e03e085e135e', 'Installation')\n",
      "('ff5da7abb46ea7b4c13ebe9cbf39748ee15c99d6', 'Installation')\n"
     ]
    }
   ],
   "source": [
    "for row in cursor:\n",
    "    print(row)"
   ]
  },
  {
   "cell_type": "code",
   "execution_count": 18,
   "id": "a2e161b3",
   "metadata": {},
   "outputs": [
    {
     "data": {
      "text/plain": [
       "<pyodbc.Cursor at 0x2b4ba3f01b0>"
      ]
     },
     "execution_count": 18,
     "metadata": {},
     "output_type": "execute_result"
    }
   ],
   "source": [
    "#List of Customer purchase multiple product after one product got \"no warranty status\"\n",
    "cursor.execute(\"SELECT cdp_customer_id,is_it_under_warranty FROM rts.dbo.cdp where is_it_under_warranty='No' AND cdp_customer_id in (SELECT cdp_customer_id FROM rts.dbo.cdp GROUP BY cdp_customer_id HAVING COUNT(product_hierarchy_tokyo_6d_4d) > 2 )\")"
   ]
  },
  {
   "cell_type": "code",
   "execution_count": 19,
   "id": "0b12b20f",
   "metadata": {},
   "outputs": [
    {
     "name": "stdout",
     "output_type": "stream",
     "text": [
      "('0463c8e31553775f33065b2206bcb6b6e31644b0', 'No')\n",
      "('0463c8e31553775f33065b2206bcb6b6e31644b0', 'No')\n",
      "('0463c8e31553775f33065b2206bcb6b6e31644b0', 'No')\n",
      "('0463c8e31553775f33065b2206bcb6b6e31644b0', 'No')\n",
      "('0463c8e31553775f33065b2206bcb6b6e31644b0', 'No')\n",
      "('05393ff307b08f6180ccd5c6012b25f6d7d467e8', 'No')\n",
      "('0ebff50e2949776cdf1a683891936dc94ae53bd7', 'No')\n",
      "('0ebff50e2949776cdf1a683891936dc94ae53bd7', 'No')\n",
      "('0ebff50e2949776cdf1a683891936dc94ae53bd7', 'No')\n",
      "('0ebff50e2949776cdf1a683891936dc94ae53bd7', 'No')\n",
      "('2ed454d1f957a4b7747f69328fd087479a02d293', 'No')\n",
      "('3211b33371b7f74dc2418e0821daf1d8cafb0887', 'No')\n",
      "('3211b33371b7f74dc2418e0821daf1d8cafb0887', 'No')\n",
      "('375bb4b47962e88b8a0ef5d4d8819bdd52891ee8', 'No')\n",
      "('3debfd0f387951386e4d5f6f734690031d3f32fa', 'No')\n",
      "('3debfd0f387951386e4d5f6f734690031d3f32fa', 'No')\n",
      "('4aa02fbe2f335bb1e79001afd45f0d59a393b1e6', 'No')\n",
      "('4d1af6ec56415014d442318747f034f382e1ba80', 'No')\n",
      "('4d1af6ec56415014d442318747f034f382e1ba80', 'No')\n",
      "('4d1af6ec56415014d442318747f034f382e1ba80', 'No')\n",
      "('4d1af6ec56415014d442318747f034f382e1ba80', 'No')\n",
      "('4d1af6ec56415014d442318747f034f382e1ba80', 'No')\n",
      "('4d1af6ec56415014d442318747f034f382e1ba80', 'No')\n",
      "('4d1af6ec56415014d442318747f034f382e1ba80', 'No')\n",
      "('5558099eab977b0143751ccecf0f87c8bcf608e6', 'No')\n",
      "('572076d9118353ef16f379651d39a18920467cb0', 'No')\n",
      "('572076d9118353ef16f379651d39a18920467cb0', 'No')\n",
      "('572076d9118353ef16f379651d39a18920467cb0', 'No')\n",
      "('5a177df5b5891b6c4f7a03ed681640b37addf79c', 'No')\n",
      "('619383ab8178d039b5e9129996471a282703d507', 'No')\n",
      "('619383ab8178d039b5e9129996471a282703d507', 'No')\n",
      "('619383ab8178d039b5e9129996471a282703d507', 'No')\n",
      "('619383ab8178d039b5e9129996471a282703d507', 'No')\n",
      "('619383ab8178d039b5e9129996471a282703d507', 'No')\n",
      "('6910f6635fc7938a4c514a37ecf10f2cea7b7004', 'No')\n",
      "('6a098cdd8185de1d7e8d543344c113d80680ef3d', 'No')\n",
      "('6a098cdd8185de1d7e8d543344c113d80680ef3d', 'No')\n",
      "('6d5a7d08b0bf7eaad4e1b6e58fb46c9eff83807e', 'No')\n",
      "('6d5a7d08b0bf7eaad4e1b6e58fb46c9eff83807e', 'No')\n",
      "('6d5a7d08b0bf7eaad4e1b6e58fb46c9eff83807e', 'No')\n",
      "('765b697a359afbd5941506cd306a8dc3e621dc83', 'No')\n",
      "('765b697a359afbd5941506cd306a8dc3e621dc83', 'No')\n",
      "('89ad542fe36103ef772942d3a09bf5d341e2001b', 'No')\n",
      "('9482732a6dae31c4388af54a3b7a2d7318a0c4ef', 'No')\n",
      "('9726449f1829b08948f4d778fcd89c21ac56a8a0', 'No')\n",
      "('a3425d37b983af1c5b1b0c463071f499c00fc23c', 'No')\n",
      "('bf1eebbf2edfc8e429c9782be8d4b15ee84532ae', 'No')\n",
      "('bf1eebbf2edfc8e429c9782be8d4b15ee84532ae', 'No')\n",
      "('bf1eebbf2edfc8e429c9782be8d4b15ee84532ae', 'No')\n",
      "('bf1eebbf2edfc8e429c9782be8d4b15ee84532ae', 'No')\n",
      "('bf1eebbf2edfc8e429c9782be8d4b15ee84532ae', 'No')\n",
      "('bf88aa2c2d013150e51cfaaad7471c2028b1c4ab', 'No')\n",
      "('bf88aa2c2d013150e51cfaaad7471c2028b1c4ab', 'No')\n",
      "('bf88aa2c2d013150e51cfaaad7471c2028b1c4ab', 'No')\n",
      "('bf88aa2c2d013150e51cfaaad7471c2028b1c4ab', 'No')\n",
      "('c38aafa8d2674a541d123dc2ba8ebb46e6c15c21', 'No')\n",
      "('ca2c36fd84231c0563f0c09db6cec326dfd10563', 'No')\n",
      "('ca2c36fd84231c0563f0c09db6cec326dfd10563', 'No')\n",
      "('ca2c36fd84231c0563f0c09db6cec326dfd10563', 'No')\n",
      "('ca2c36fd84231c0563f0c09db6cec326dfd10563', 'No')\n",
      "('ca2c36fd84231c0563f0c09db6cec326dfd10563', 'No')\n",
      "('ca2c36fd84231c0563f0c09db6cec326dfd10563', 'No')\n",
      "('ca2c36fd84231c0563f0c09db6cec326dfd10563', 'No')\n",
      "('ca2c36fd84231c0563f0c09db6cec326dfd10563', 'No')\n",
      "('ca2c36fd84231c0563f0c09db6cec326dfd10563', 'No')\n",
      "('d3da280a6517cef96871bdc0d6a1113ea36d98c4', 'No')\n",
      "('d3da280a6517cef96871bdc0d6a1113ea36d98c4', 'No')\n",
      "('d3da280a6517cef96871bdc0d6a1113ea36d98c4', 'No')\n",
      "('d3da280a6517cef96871bdc0d6a1113ea36d98c4', 'No')\n",
      "('d3da280a6517cef96871bdc0d6a1113ea36d98c4', 'No')\n",
      "('d4802483ad203df7ffb9d84719e610e7cbd3fa5f', 'No')\n",
      "('d4802483ad203df7ffb9d84719e610e7cbd3fa5f', 'No')\n",
      "('d4802483ad203df7ffb9d84719e610e7cbd3fa5f', 'No')\n",
      "('d52542ffb4c2bd095719f8d17840e57066afbcc2', 'No')\n",
      "('d8fe55cef43cca2307dc06abde7c4cf9153986ee', 'No')\n",
      "('da2c9e4e0d8a0e44f153c0c2aef5634a2279395e', 'No')\n",
      "('dbcd8f558d281dd56870b9743a491b9d7df0d260', 'No')\n",
      "('e0fe8a19857241d59e3a102d108297a869304ca3', 'No')\n",
      "('e0fe8a19857241d59e3a102d108297a869304ca3', 'No')\n",
      "('e99a774664c0780bf6557d010ca9f07d64862d52', 'No')\n",
      "('f5ee1b8811c2da47730fd1bb3cbe81bdc92a6ea0', 'No')\n",
      "('f5ee1b8811c2da47730fd1bb3cbe81bdc92a6ea0', 'No')\n",
      "('f5ee1b8811c2da47730fd1bb3cbe81bdc92a6ea0', 'No')\n",
      "('f892db4e09a42e9fe08ff50823e7179996b45047', 'No')\n",
      "('f892db4e09a42e9fe08ff50823e7179996b45047', 'No')\n",
      "('f892db4e09a42e9fe08ff50823e7179996b45047', 'No')\n",
      "('fc053be172f5da219c261cc0d5e43fb10effe80c', 'No')\n",
      "('fd65c4165ddeb9d1a0df062c0d1ce6071644c39d', 'No')\n",
      "('fd65c4165ddeb9d1a0df062c0d1ce6071644c39d', 'No')\n",
      "('ff5da7abb46ea7b4c13ebe9cbf39748ee15c99d6', 'No')\n",
      "('ff5da7abb46ea7b4c13ebe9cbf39748ee15c99d6', 'No')\n"
     ]
    }
   ],
   "source": [
    "for row in cursor:\n",
    "    print(row)"
   ]
  },
  {
   "cell_type": "code",
   "execution_count": 20,
   "id": "d6995925",
   "metadata": {},
   "outputs": [],
   "source": [
    "#grouping the dataset\n",
    "final=df.groupby(['contact_name','material',]).size().reset_index().head(50)"
   ]
  },
  {
   "cell_type": "code",
   "execution_count": 21,
   "id": "0f3c5376",
   "metadata": {},
   "outputs": [
    {
     "data": {
      "image/png": "[encoded data removed]",
      "text/plain": [
       "<Figure size 432x288 with 1 Axes>"
      ]
     },
     "metadata": {
      "needs_background": "light"
     },
     "output_type": "display_data"
    }
   ],
   "source": [
    "#ploting on x and y axis\n",
    "plt.scatter(final['contact_name'],final['material'])\n",
    "plt.show()"
   ]
  },
  {
   "cell_type": "code",
   "execution_count": 22,
   "id": "d223cbba",
   "metadata": {},
   "outputs": [
    {
     "data": {
      "text/plain": [
       "KMeans(n_clusters=3)"
      ]
     },
     "execution_count": 22,
     "metadata": {},
     "output_type": "execute_result"
    }
   ],
   "source": [
    "km = KMeans(n_clusters=3)\n",
    "km"
   ]
  },
  {
   "cell_type": "code",
   "execution_count": 23,
   "id": "c5d2cd97",
   "metadata": {},
   "outputs": [
    {
     "data": {
      "text/plain": [
       "array([1, 0, 0, 0, 2, 0, 0, 0, 0, 0, 0, 0, 0, 0, 0, 0, 0, 0, 0, 0, 0, 0,\n",
       "       0, 0, 0, 0, 0, 2, 0, 0, 0, 2, 0, 0, 0, 0, 0, 0, 0, 0, 0, 0, 0, 0,\n",
       "       0, 0, 0, 0, 0, 0])"
      ]
     },
     "execution_count": 23,
     "metadata": {},
     "output_type": "execute_result"
    }
   ],
   "source": [
    "\n",
    "y_predicted = km.fit_predict(final[['contact_name','material']])\n",
    "y_predicted                                     "
   ]
  },
  {
   "cell_type": "code",
   "execution_count": 24,
   "id": "63cc8aa3",
   "metadata": {},
   "outputs": [
    {
     "data": {
      "text/html": [
       "<div>\n",
       "<style scoped>\n",
       "    .dataframe tbody tr th:only-of-type {\n",
       "        vertical-align: middle;\n",
       "    }\n",
       "\n",
       "    .dataframe tbody tr th {\n",
       "        vertical-align: top;\n",
       "    }\n",
       "\n",
       "    .dataframe thead th {\n",
       "        text-align: right;\n",
       "    }\n",
       "</style>\n",
       "<table border=\"1\" class=\"dataframe\">\n",
       "  <thead>\n",
       "    <tr style=\"text-align: right;\">\n",
       "      <th></th>\n",
       "      <th>contact_name</th>\n",
       "      <th>material</th>\n",
       "      <th>0</th>\n",
       "      <th>cluster</th>\n",
       "    </tr>\n",
       "  </thead>\n",
       "  <tbody>\n",
       "    <tr>\n",
       "      <th>0</th>\n",
       "      <td>5606</td>\n",
       "      <td>92479881.0</td>\n",
       "      <td>1</td>\n",
       "      <td>1</td>\n",
       "    </tr>\n",
       "    <tr>\n",
       "      <th>1</th>\n",
       "      <td>39608</td>\n",
       "      <td>18540601.0</td>\n",
       "      <td>6</td>\n",
       "      <td>0</td>\n",
       "    </tr>\n",
       "    <tr>\n",
       "      <th>2</th>\n",
       "      <td>43303</td>\n",
       "      <td>18932701.0</td>\n",
       "      <td>1</td>\n",
       "      <td>0</td>\n",
       "    </tr>\n",
       "    <tr>\n",
       "      <th>3</th>\n",
       "      <td>61341</td>\n",
       "      <td>12468401.0</td>\n",
       "      <td>2</td>\n",
       "      <td>0</td>\n",
       "    </tr>\n",
       "    <tr>\n",
       "      <th>4</th>\n",
       "      <td>64564</td>\n",
       "      <td>36620988.0</td>\n",
       "      <td>1</td>\n",
       "      <td>2</td>\n",
       "    </tr>\n",
       "    <tr>\n",
       "      <th>5</th>\n",
       "      <td>121223</td>\n",
       "      <td>18413300.0</td>\n",
       "      <td>1</td>\n",
       "      <td>0</td>\n",
       "    </tr>\n",
       "    <tr>\n",
       "      <th>6</th>\n",
       "      <td>136841</td>\n",
       "      <td>12468001.0</td>\n",
       "      <td>2</td>\n",
       "      <td>0</td>\n",
       "    </tr>\n",
       "    <tr>\n",
       "      <th>7</th>\n",
       "      <td>146665</td>\n",
       "      <td>12487401.0</td>\n",
       "      <td>1</td>\n",
       "      <td>0</td>\n",
       "    </tr>\n",
       "    <tr>\n",
       "      <th>8</th>\n",
       "      <td>153109</td>\n",
       "      <td>12486501.0</td>\n",
       "      <td>2</td>\n",
       "      <td>0</td>\n",
       "    </tr>\n",
       "    <tr>\n",
       "      <th>9</th>\n",
       "      <td>154190</td>\n",
       "      <td>12448401.0</td>\n",
       "      <td>2</td>\n",
       "      <td>0</td>\n",
       "    </tr>\n",
       "    <tr>\n",
       "      <th>10</th>\n",
       "      <td>154190</td>\n",
       "      <td>13068681.0</td>\n",
       "      <td>1</td>\n",
       "      <td>0</td>\n",
       "    </tr>\n",
       "    <tr>\n",
       "      <th>11</th>\n",
       "      <td>182910</td>\n",
       "      <td>12442401.0</td>\n",
       "      <td>2</td>\n",
       "      <td>0</td>\n",
       "    </tr>\n",
       "    <tr>\n",
       "      <th>12</th>\n",
       "      <td>182910</td>\n",
       "      <td>18287301.0</td>\n",
       "      <td>1</td>\n",
       "      <td>0</td>\n",
       "    </tr>\n",
       "    <tr>\n",
       "      <th>13</th>\n",
       "      <td>186629</td>\n",
       "      <td>18948901.0</td>\n",
       "      <td>1</td>\n",
       "      <td>0</td>\n",
       "    </tr>\n",
       "    <tr>\n",
       "      <th>14</th>\n",
       "      <td>202046</td>\n",
       "      <td>18798901.0</td>\n",
       "      <td>2</td>\n",
       "      <td>0</td>\n",
       "    </tr>\n",
       "    <tr>\n",
       "      <th>15</th>\n",
       "      <td>221508</td>\n",
       "      <td>18540201.0</td>\n",
       "      <td>2</td>\n",
       "      <td>0</td>\n",
       "    </tr>\n",
       "    <tr>\n",
       "      <th>16</th>\n",
       "      <td>223741</td>\n",
       "      <td>18637001.0</td>\n",
       "      <td>1</td>\n",
       "      <td>0</td>\n",
       "    </tr>\n",
       "    <tr>\n",
       "      <th>17</th>\n",
       "      <td>226766</td>\n",
       "      <td>18745201.0</td>\n",
       "      <td>1</td>\n",
       "      <td>0</td>\n",
       "    </tr>\n",
       "    <tr>\n",
       "      <th>18</th>\n",
       "      <td>228724</td>\n",
       "      <td>18470701.0</td>\n",
       "      <td>3</td>\n",
       "      <td>0</td>\n",
       "    </tr>\n",
       "    <tr>\n",
       "      <th>19</th>\n",
       "      <td>228724</td>\n",
       "      <td>18492401.0</td>\n",
       "      <td>1</td>\n",
       "      <td>0</td>\n",
       "    </tr>\n",
       "  </tbody>\n",
       "</table>\n",
       "</div>"
      ],
      "text/plain": [
       "    contact_name    material  0  cluster\n",
       "0           5606  92479881.0  1        1\n",
       "1          39608  18540601.0  6        0\n",
       "2          43303  18932701.0  1        0\n",
       "3          61341  12468401.0  2        0\n",
       "4          64564  36620988.0  1        2\n",
       "5         121223  18413300.0  1        0\n",
       "6         136841  12468001.0  2        0\n",
       "7         146665  12487401.0  1        0\n",
       "8         153109  12486501.0  2        0\n",
       "9         154190  12448401.0  2        0\n",
       "10        154190  13068681.0  1        0\n",
       "11        182910  12442401.0  2        0\n",
       "12        182910  18287301.0  1        0\n",
       "13        186629  18948901.0  1        0\n",
       "14        202046  18798901.0  2        0\n",
       "15        221508  18540201.0  2        0\n",
       "16        223741  18637001.0  1        0\n",
       "17        226766  18745201.0  1        0\n",
       "18        228724  18470701.0  3        0\n",
       "19        228724  18492401.0  1        0"
      ]
     },
     "execution_count": 24,
     "metadata": {},
     "output_type": "execute_result"
    }
   ],
   "source": [
    "final['cluster']=y_predicted\n",
    "final.head(20)"
   ]
  },
  {
   "cell_type": "code",
   "execution_count": 25,
   "id": "91158d18",
   "metadata": {},
   "outputs": [
    {
     "name": "stderr",
     "output_type": "stream",
     "text": [
      "No artists with labels found to put in legend.  Note that artists whose label start with an underscore are ignored when legend() is called with no argument.\n"
     ]
    },
    {
     "data": {
      "text/plain": [
       "<matplotlib.legend.Legend at 0x2b4c585aac0>"
      ]
     },
     "execution_count": 25,
     "metadata": {},
     "output_type": "execute_result"
    },
    {
     "data": {
      "image/png": "[encoded data removed]",
      "text/plain": [
       "<Figure size 432x288 with 1 Axes>"
      ]
     },
     "metadata": {
      "needs_background": "light"
     },
     "output_type": "display_data"
    }
   ],
   "source": [
    "#after training model ploting into 3 cluster or group\n",
    "f1 = final[final.cluster==0]\n",
    "f2 = final[final.cluster==1]\n",
    "f3 = final[final.cluster==2]\n",
    "\n",
    "plt.scatter(f1.contact_name,f1['material'],color='green')\n",
    "plt.scatter(f2.contact_name,f2['material'],color='red')\n",
    "plt.scatter(f3.contact_name,f3['material'],color='blue')\n",
    "\n",
    "plt.xlabel('contact_name')\n",
    "plt.ylabel('material')\n",
    "plt.legend()"
   ]
  },
  {
   "cell_type": "code",
   "execution_count": 26,
   "id": "dbf4630d",
   "metadata": {},
   "outputs": [
    {
     "name": "stderr",
     "output_type": "stream",
     "text": [
      "C:\\Users\\AGL\\anaconda3\\lib\\site-packages\\sklearn\\base.py:450: UserWarning: X does not have valid feature names, but MinMaxScaler was fitted with feature names\n",
      "  warnings.warn(\n"
     ]
    },
    {
     "ename": "ValueError",
     "evalue": "Expected 2D array, got 1D array instead:\narray=[92479881. 18540601. 18932701. 12468401. 36620988. 18413300. 12468001.\n 12487401. 12486501. 12448401. 13068681. 12442401. 18287301. 18948901.\n 18798901. 18540201. 18637001. 18745201. 18470701. 18492401. 18342601.\n 18727001. 18871401. 18872901. 12468401. 12485501. 12449001. 50973573.\n 12468401. 12442401. 18783001. 50667000. 18874601. 12425101. 18940601.\n 18871101. 12442301. 12468001. 18871101. 12467601. 18308601. 12485601.\n 18342400. 12442301. 18996701. 13069681. 12485301. 18948001. 12467601.\n 18617701.].\nReshape your data either using array.reshape(-1, 1) if your data has a single feature or array.reshape(1, -1) if it contains a single sample.",
     "output_type": "error",
     "traceback": [
      "\u001b[1;31m---------------------------------------------------------------------------\u001b[0m",
      "\u001b[1;31mValueError\u001b[0m                                Traceback (most recent call last)",
      "Input \u001b[1;32mIn [26]\u001b[0m, in \u001b[0;36m<cell line: 3>\u001b[1;34m()\u001b[0m\n\u001b[0;32m      1\u001b[0m scaler \u001b[38;5;241m=\u001b[39m MinMaxScaler()\n\u001b[0;32m      2\u001b[0m scaler\u001b[38;5;241m.\u001b[39mfit(final[[\u001b[38;5;124m'\u001b[39m\u001b[38;5;124mmaterial\u001b[39m\u001b[38;5;124m'\u001b[39m]])\n\u001b[1;32m----> 3\u001b[0m final[\u001b[38;5;124m'\u001b[39m\u001b[38;5;124mmaterial\u001b[39m\u001b[38;5;124m'\u001b[39m] \u001b[38;5;241m=\u001b[39m \u001b[43mscaler\u001b[49m\u001b[38;5;241;43m.\u001b[39;49m\u001b[43mtransform\u001b[49m\u001b[43m(\u001b[49m\u001b[43mfinal\u001b[49m\u001b[43m[\u001b[49m\u001b[38;5;124;43m'\u001b[39;49m\u001b[38;5;124;43mmaterial\u001b[39;49m\u001b[38;5;124;43m'\u001b[39;49m\u001b[43m]\u001b[49m\u001b[43m)\u001b[49m\n\u001b[0;32m      5\u001b[0m scaler\u001b[38;5;241m.\u001b[39mfit(final\u001b[38;5;241m.\u001b[39mcontact_name)\n\u001b[0;32m      6\u001b[0m final\u001b[38;5;241m.\u001b[39mcontact_name \u001b[38;5;241m=\u001b[39m scaler\u001b[38;5;241m.\u001b[39mtransform(final\u001b[38;5;241m.\u001b[39mcontact_name)\n",
      "File \u001b[1;32m~\\anaconda3\\lib\\site-packages\\sklearn\\preprocessing\\_data.py:496\u001b[0m, in \u001b[0;36mMinMaxScaler.transform\u001b[1;34m(self, X)\u001b[0m\n\u001b[0;32m    482\u001b[0m \u001b[38;5;124;03m\"\"\"Scale features of X according to feature_range.\u001b[39;00m\n\u001b[0;32m    483\u001b[0m \n\u001b[0;32m    484\u001b[0m \u001b[38;5;124;03mParameters\u001b[39;00m\n\u001b[1;32m   (...)\u001b[0m\n\u001b[0;32m    492\u001b[0m \u001b[38;5;124;03m    Transformed data.\u001b[39;00m\n\u001b[0;32m    493\u001b[0m \u001b[38;5;124;03m\"\"\"\u001b[39;00m\n\u001b[0;32m    494\u001b[0m check_is_fitted(\u001b[38;5;28mself\u001b[39m)\n\u001b[1;32m--> 496\u001b[0m X \u001b[38;5;241m=\u001b[39m \u001b[38;5;28;43mself\u001b[39;49m\u001b[38;5;241;43m.\u001b[39;49m\u001b[43m_validate_data\u001b[49m\u001b[43m(\u001b[49m\n\u001b[0;32m    497\u001b[0m \u001b[43m    \u001b[49m\u001b[43mX\u001b[49m\u001b[43m,\u001b[49m\n\u001b[0;32m    498\u001b[0m \u001b[43m    \u001b[49m\u001b[43mcopy\u001b[49m\u001b[38;5;241;43m=\u001b[39;49m\u001b[38;5;28;43mself\u001b[39;49m\u001b[38;5;241;43m.\u001b[39;49m\u001b[43mcopy\u001b[49m\u001b[43m,\u001b[49m\n\u001b[0;32m    499\u001b[0m \u001b[43m    \u001b[49m\u001b[43mdtype\u001b[49m\u001b[38;5;241;43m=\u001b[39;49m\u001b[43mFLOAT_DTYPES\u001b[49m\u001b[43m,\u001b[49m\n\u001b[0;32m    500\u001b[0m \u001b[43m    \u001b[49m\u001b[43mforce_all_finite\u001b[49m\u001b[38;5;241;43m=\u001b[39;49m\u001b[38;5;124;43m\"\u001b[39;49m\u001b[38;5;124;43mallow-nan\u001b[39;49m\u001b[38;5;124;43m\"\u001b[39;49m\u001b[43m,\u001b[49m\n\u001b[0;32m    501\u001b[0m \u001b[43m    \u001b[49m\u001b[43mreset\u001b[49m\u001b[38;5;241;43m=\u001b[39;49m\u001b[38;5;28;43;01mFalse\u001b[39;49;00m\u001b[43m,\u001b[49m\n\u001b[0;32m    502\u001b[0m \u001b[43m\u001b[49m\u001b[43m)\u001b[49m\n\u001b[0;32m    504\u001b[0m X \u001b[38;5;241m*\u001b[39m\u001b[38;5;241m=\u001b[39m \u001b[38;5;28mself\u001b[39m\u001b[38;5;241m.\u001b[39mscale_\n\u001b[0;32m    505\u001b[0m X \u001b[38;5;241m+\u001b[39m\u001b[38;5;241m=\u001b[39m \u001b[38;5;28mself\u001b[39m\u001b[38;5;241m.\u001b[39mmin_\n",
      "File \u001b[1;32m~\\anaconda3\\lib\\site-packages\\sklearn\\base.py:566\u001b[0m, in \u001b[0;36mBaseEstimator._validate_data\u001b[1;34m(self, X, y, reset, validate_separately, **check_params)\u001b[0m\n\u001b[0;32m    564\u001b[0m     \u001b[38;5;28;01mraise\u001b[39;00m \u001b[38;5;167;01mValueError\u001b[39;00m(\u001b[38;5;124m\"\u001b[39m\u001b[38;5;124mValidation should be done on X, y or both.\u001b[39m\u001b[38;5;124m\"\u001b[39m)\n\u001b[0;32m    565\u001b[0m \u001b[38;5;28;01melif\u001b[39;00m \u001b[38;5;129;01mnot\u001b[39;00m no_val_X \u001b[38;5;129;01mand\u001b[39;00m no_val_y:\n\u001b[1;32m--> 566\u001b[0m     X \u001b[38;5;241m=\u001b[39m check_array(X, \u001b[38;5;241m*\u001b[39m\u001b[38;5;241m*\u001b[39mcheck_params)\n\u001b[0;32m    567\u001b[0m     out \u001b[38;5;241m=\u001b[39m X\n\u001b[0;32m    568\u001b[0m \u001b[38;5;28;01melif\u001b[39;00m no_val_X \u001b[38;5;129;01mand\u001b[39;00m \u001b[38;5;129;01mnot\u001b[39;00m no_val_y:\n",
      "File \u001b[1;32m~\\anaconda3\\lib\\site-packages\\sklearn\\utils\\validation.py:769\u001b[0m, in \u001b[0;36mcheck_array\u001b[1;34m(array, accept_sparse, accept_large_sparse, dtype, order, copy, force_all_finite, ensure_2d, allow_nd, ensure_min_samples, ensure_min_features, estimator)\u001b[0m\n\u001b[0;32m    767\u001b[0m     \u001b[38;5;66;03m# If input is 1D raise error\u001b[39;00m\n\u001b[0;32m    768\u001b[0m     \u001b[38;5;28;01mif\u001b[39;00m array\u001b[38;5;241m.\u001b[39mndim \u001b[38;5;241m==\u001b[39m \u001b[38;5;241m1\u001b[39m:\n\u001b[1;32m--> 769\u001b[0m         \u001b[38;5;28;01mraise\u001b[39;00m \u001b[38;5;167;01mValueError\u001b[39;00m(\n\u001b[0;32m    770\u001b[0m             \u001b[38;5;124m\"\u001b[39m\u001b[38;5;124mExpected 2D array, got 1D array instead:\u001b[39m\u001b[38;5;130;01m\\n\u001b[39;00m\u001b[38;5;124marray=\u001b[39m\u001b[38;5;132;01m{}\u001b[39;00m\u001b[38;5;124m.\u001b[39m\u001b[38;5;130;01m\\n\u001b[39;00m\u001b[38;5;124m\"\u001b[39m\n\u001b[0;32m    771\u001b[0m             \u001b[38;5;124m\"\u001b[39m\u001b[38;5;124mReshape your data either using array.reshape(-1, 1) if \u001b[39m\u001b[38;5;124m\"\u001b[39m\n\u001b[0;32m    772\u001b[0m             \u001b[38;5;124m\"\u001b[39m\u001b[38;5;124myour data has a single feature or array.reshape(1, -1) \u001b[39m\u001b[38;5;124m\"\u001b[39m\n\u001b[0;32m    773\u001b[0m             \u001b[38;5;124m\"\u001b[39m\u001b[38;5;124mif it contains a single sample.\u001b[39m\u001b[38;5;124m\"\u001b[39m\u001b[38;5;241m.\u001b[39mformat(array)\n\u001b[0;32m    774\u001b[0m         )\n\u001b[0;32m    776\u001b[0m \u001b[38;5;66;03m# make sure we actually converted to numeric:\u001b[39;00m\n\u001b[0;32m    777\u001b[0m \u001b[38;5;28;01mif\u001b[39;00m dtype_numeric \u001b[38;5;129;01mand\u001b[39;00m array\u001b[38;5;241m.\u001b[39mdtype\u001b[38;5;241m.\u001b[39mkind \u001b[38;5;129;01min\u001b[39;00m \u001b[38;5;124m\"\u001b[39m\u001b[38;5;124mOUSV\u001b[39m\u001b[38;5;124m\"\u001b[39m:\n",
      "\u001b[1;31mValueError\u001b[0m: Expected 2D array, got 1D array instead:\narray=[92479881. 18540601. 18932701. 12468401. 36620988. 18413300. 12468001.\n 12487401. 12486501. 12448401. 13068681. 12442401. 18287301. 18948901.\n 18798901. 18540201. 18637001. 18745201. 18470701. 18492401. 18342601.\n 18727001. 18871401. 18872901. 12468401. 12485501. 12449001. 50973573.\n 12468401. 12442401. 18783001. 50667000. 18874601. 12425101. 18940601.\n 18871101. 12442301. 12468001. 18871101. 12467601. 18308601. 12485601.\n 18342400. 12442301. 18996701. 13069681. 12485301. 18948001. 12467601.\n 18617701.].\nReshape your data either using array.reshape(-1, 1) if your data has a single feature or array.reshape(1, -1) if it contains a single sample."
     ]
    }
   ],
   "source": [
    "#scaling to get more accurate output\n",
    "scaler = MinMaxScaler()\n",
    "scaler.fit(final[['material']])\n",
    "final['material'] = scaler.transform(final['material'])\n",
    "\n",
    "scaler.fit(final.contact_name)\n",
    "final.contact_name = scaler.transform(final.contact_name)\n",
    "final"
   ]
  },
  {
   "cell_type": "code",
   "execution_count": 27,
   "id": "8c33cc5e",
   "metadata": {},
   "outputs": [
    {
     "data": {
      "text/plain": [
       "array([2, 0, 0, 0, 1, 0, 0, 0, 0, 0, 0, 0, 0, 0, 0, 0, 0, 0, 0, 0, 0, 0,\n",
       "       0, 0, 0, 0, 0, 1, 0, 0, 0, 1, 0, 0, 0, 0, 0, 0, 0, 0, 0, 0, 0, 0,\n",
       "       0, 0, 0, 0, 0, 0])"
      ]
     },
     "execution_count": 27,
     "metadata": {},
     "output_type": "execute_result"
    }
   ],
   "source": [
    "km = KMeans(n_clusters=3)\n",
    "y_predicted = km.fit_predict(final[['contact_name','material']])\n",
    "y_predicted"
   ]
  },
  {
   "cell_type": "code",
   "execution_count": 28,
   "id": "8d06f4f7",
   "metadata": {},
   "outputs": [
    {
     "data": {
      "text/html": [
       "<div>\n",
       "<style scoped>\n",
       "    .dataframe tbody tr th:only-of-type {\n",
       "        vertical-align: middle;\n",
       "    }\n",
       "\n",
       "    .dataframe tbody tr th {\n",
       "        vertical-align: top;\n",
       "    }\n",
       "\n",
       "    .dataframe thead th {\n",
       "        text-align: right;\n",
       "    }\n",
       "</style>\n",
       "<table border=\"1\" class=\"dataframe\">\n",
       "  <thead>\n",
       "    <tr style=\"text-align: right;\">\n",
       "      <th></th>\n",
       "      <th>contact_name</th>\n",
       "      <th>material</th>\n",
       "      <th>0</th>\n",
       "    </tr>\n",
       "  </thead>\n",
       "  <tbody>\n",
       "    <tr>\n",
       "      <th>0</th>\n",
       "      <td>5606</td>\n",
       "      <td>92479881.0</td>\n",
       "      <td>1</td>\n",
       "    </tr>\n",
       "    <tr>\n",
       "      <th>1</th>\n",
       "      <td>39608</td>\n",
       "      <td>18540601.0</td>\n",
       "      <td>6</td>\n",
       "    </tr>\n",
       "    <tr>\n",
       "      <th>2</th>\n",
       "      <td>43303</td>\n",
       "      <td>18932701.0</td>\n",
       "      <td>1</td>\n",
       "    </tr>\n",
       "    <tr>\n",
       "      <th>3</th>\n",
       "      <td>61341</td>\n",
       "      <td>12468401.0</td>\n",
       "      <td>2</td>\n",
       "    </tr>\n",
       "    <tr>\n",
       "      <th>4</th>\n",
       "      <td>64564</td>\n",
       "      <td>36620988.0</td>\n",
       "      <td>1</td>\n",
       "    </tr>\n",
       "    <tr>\n",
       "      <th>5</th>\n",
       "      <td>121223</td>\n",
       "      <td>18413300.0</td>\n",
       "      <td>1</td>\n",
       "    </tr>\n",
       "    <tr>\n",
       "      <th>6</th>\n",
       "      <td>136841</td>\n",
       "      <td>12468001.0</td>\n",
       "      <td>2</td>\n",
       "    </tr>\n",
       "    <tr>\n",
       "      <th>7</th>\n",
       "      <td>146665</td>\n",
       "      <td>12487401.0</td>\n",
       "      <td>1</td>\n",
       "    </tr>\n",
       "    <tr>\n",
       "      <th>8</th>\n",
       "      <td>153109</td>\n",
       "      <td>12486501.0</td>\n",
       "      <td>2</td>\n",
       "    </tr>\n",
       "    <tr>\n",
       "      <th>9</th>\n",
       "      <td>154190</td>\n",
       "      <td>12448401.0</td>\n",
       "      <td>2</td>\n",
       "    </tr>\n",
       "    <tr>\n",
       "      <th>10</th>\n",
       "      <td>154190</td>\n",
       "      <td>13068681.0</td>\n",
       "      <td>1</td>\n",
       "    </tr>\n",
       "    <tr>\n",
       "      <th>11</th>\n",
       "      <td>182910</td>\n",
       "      <td>12442401.0</td>\n",
       "      <td>2</td>\n",
       "    </tr>\n",
       "    <tr>\n",
       "      <th>12</th>\n",
       "      <td>182910</td>\n",
       "      <td>18287301.0</td>\n",
       "      <td>1</td>\n",
       "    </tr>\n",
       "    <tr>\n",
       "      <th>13</th>\n",
       "      <td>186629</td>\n",
       "      <td>18948901.0</td>\n",
       "      <td>1</td>\n",
       "    </tr>\n",
       "    <tr>\n",
       "      <th>14</th>\n",
       "      <td>202046</td>\n",
       "      <td>18798901.0</td>\n",
       "      <td>2</td>\n",
       "    </tr>\n",
       "    <tr>\n",
       "      <th>15</th>\n",
       "      <td>221508</td>\n",
       "      <td>18540201.0</td>\n",
       "      <td>2</td>\n",
       "    </tr>\n",
       "    <tr>\n",
       "      <th>16</th>\n",
       "      <td>223741</td>\n",
       "      <td>18637001.0</td>\n",
       "      <td>1</td>\n",
       "    </tr>\n",
       "    <tr>\n",
       "      <th>17</th>\n",
       "      <td>226766</td>\n",
       "      <td>18745201.0</td>\n",
       "      <td>1</td>\n",
       "    </tr>\n",
       "    <tr>\n",
       "      <th>18</th>\n",
       "      <td>228724</td>\n",
       "      <td>18470701.0</td>\n",
       "      <td>3</td>\n",
       "    </tr>\n",
       "    <tr>\n",
       "      <th>19</th>\n",
       "      <td>228724</td>\n",
       "      <td>18492401.0</td>\n",
       "      <td>1</td>\n",
       "    </tr>\n",
       "    <tr>\n",
       "      <th>20</th>\n",
       "      <td>233693</td>\n",
       "      <td>18342601.0</td>\n",
       "      <td>2</td>\n",
       "    </tr>\n",
       "    <tr>\n",
       "      <th>21</th>\n",
       "      <td>233693</td>\n",
       "      <td>18727001.0</td>\n",
       "      <td>1</td>\n",
       "    </tr>\n",
       "    <tr>\n",
       "      <th>22</th>\n",
       "      <td>236456</td>\n",
       "      <td>18871401.0</td>\n",
       "      <td>2</td>\n",
       "    </tr>\n",
       "    <tr>\n",
       "      <th>23</th>\n",
       "      <td>236456</td>\n",
       "      <td>18872901.0</td>\n",
       "      <td>1</td>\n",
       "    </tr>\n",
       "    <tr>\n",
       "      <th>24</th>\n",
       "      <td>246235</td>\n",
       "      <td>12468401.0</td>\n",
       "      <td>4</td>\n",
       "    </tr>\n",
       "    <tr>\n",
       "      <th>25</th>\n",
       "      <td>279910</td>\n",
       "      <td>12485501.0</td>\n",
       "      <td>2</td>\n",
       "    </tr>\n",
       "    <tr>\n",
       "      <th>26</th>\n",
       "      <td>289380</td>\n",
       "      <td>12449001.0</td>\n",
       "      <td>1</td>\n",
       "    </tr>\n",
       "    <tr>\n",
       "      <th>27</th>\n",
       "      <td>289380</td>\n",
       "      <td>50973573.0</td>\n",
       "      <td>1</td>\n",
       "    </tr>\n",
       "    <tr>\n",
       "      <th>28</th>\n",
       "      <td>303661</td>\n",
       "      <td>12468401.0</td>\n",
       "      <td>5</td>\n",
       "    </tr>\n",
       "    <tr>\n",
       "      <th>29</th>\n",
       "      <td>305025</td>\n",
       "      <td>12442401.0</td>\n",
       "      <td>2</td>\n",
       "    </tr>\n",
       "    <tr>\n",
       "      <th>30</th>\n",
       "      <td>320983</td>\n",
       "      <td>18783001.0</td>\n",
       "      <td>1</td>\n",
       "    </tr>\n",
       "    <tr>\n",
       "      <th>31</th>\n",
       "      <td>328222</td>\n",
       "      <td>50667000.0</td>\n",
       "      <td>1</td>\n",
       "    </tr>\n",
       "    <tr>\n",
       "      <th>32</th>\n",
       "      <td>331426</td>\n",
       "      <td>18874601.0</td>\n",
       "      <td>2</td>\n",
       "    </tr>\n",
       "    <tr>\n",
       "      <th>33</th>\n",
       "      <td>332361</td>\n",
       "      <td>12425101.0</td>\n",
       "      <td>1</td>\n",
       "    </tr>\n",
       "    <tr>\n",
       "      <th>34</th>\n",
       "      <td>332361</td>\n",
       "      <td>18940601.0</td>\n",
       "      <td>1</td>\n",
       "    </tr>\n",
       "    <tr>\n",
       "      <th>35</th>\n",
       "      <td>333046</td>\n",
       "      <td>18871101.0</td>\n",
       "      <td>1</td>\n",
       "    </tr>\n",
       "    <tr>\n",
       "      <th>36</th>\n",
       "      <td>333868</td>\n",
       "      <td>12442301.0</td>\n",
       "      <td>1</td>\n",
       "    </tr>\n",
       "    <tr>\n",
       "      <th>37</th>\n",
       "      <td>333868</td>\n",
       "      <td>12468001.0</td>\n",
       "      <td>2</td>\n",
       "    </tr>\n",
       "    <tr>\n",
       "      <th>38</th>\n",
       "      <td>334525</td>\n",
       "      <td>18871101.0</td>\n",
       "      <td>2</td>\n",
       "    </tr>\n",
       "    <tr>\n",
       "      <th>39</th>\n",
       "      <td>344070</td>\n",
       "      <td>12467601.0</td>\n",
       "      <td>3</td>\n",
       "    </tr>\n",
       "    <tr>\n",
       "      <th>40</th>\n",
       "      <td>344070</td>\n",
       "      <td>18308601.0</td>\n",
       "      <td>1</td>\n",
       "    </tr>\n",
       "    <tr>\n",
       "      <th>41</th>\n",
       "      <td>350366</td>\n",
       "      <td>12485601.0</td>\n",
       "      <td>1</td>\n",
       "    </tr>\n",
       "    <tr>\n",
       "      <th>42</th>\n",
       "      <td>351022</td>\n",
       "      <td>18342400.0</td>\n",
       "      <td>1</td>\n",
       "    </tr>\n",
       "    <tr>\n",
       "      <th>43</th>\n",
       "      <td>357381</td>\n",
       "      <td>12442301.0</td>\n",
       "      <td>1</td>\n",
       "    </tr>\n",
       "    <tr>\n",
       "      <th>44</th>\n",
       "      <td>360478</td>\n",
       "      <td>18996701.0</td>\n",
       "      <td>3</td>\n",
       "    </tr>\n",
       "    <tr>\n",
       "      <th>45</th>\n",
       "      <td>363076</td>\n",
       "      <td>13069681.0</td>\n",
       "      <td>3</td>\n",
       "    </tr>\n",
       "    <tr>\n",
       "      <th>46</th>\n",
       "      <td>371133</td>\n",
       "      <td>12485301.0</td>\n",
       "      <td>1</td>\n",
       "    </tr>\n",
       "    <tr>\n",
       "      <th>47</th>\n",
       "      <td>371133</td>\n",
       "      <td>18948001.0</td>\n",
       "      <td>1</td>\n",
       "    </tr>\n",
       "    <tr>\n",
       "      <th>48</th>\n",
       "      <td>380310</td>\n",
       "      <td>12467601.0</td>\n",
       "      <td>1</td>\n",
       "    </tr>\n",
       "    <tr>\n",
       "      <th>49</th>\n",
       "      <td>380310</td>\n",
       "      <td>18617701.0</td>\n",
       "      <td>1</td>\n",
       "    </tr>\n",
       "  </tbody>\n",
       "</table>\n",
       "</div>"
      ],
      "text/plain": [
       "    contact_name    material  0\n",
       "0           5606  92479881.0  1\n",
       "1          39608  18540601.0  6\n",
       "2          43303  18932701.0  1\n",
       "3          61341  12468401.0  2\n",
       "4          64564  36620988.0  1\n",
       "5         121223  18413300.0  1\n",
       "6         136841  12468001.0  2\n",
       "7         146665  12487401.0  1\n",
       "8         153109  12486501.0  2\n",
       "9         154190  12448401.0  2\n",
       "10        154190  13068681.0  1\n",
       "11        182910  12442401.0  2\n",
       "12        182910  18287301.0  1\n",
       "13        186629  18948901.0  1\n",
       "14        202046  18798901.0  2\n",
       "15        221508  18540201.0  2\n",
       "16        223741  18637001.0  1\n",
       "17        226766  18745201.0  1\n",
       "18        228724  18470701.0  3\n",
       "19        228724  18492401.0  1\n",
       "20        233693  18342601.0  2\n",
       "21        233693  18727001.0  1\n",
       "22        236456  18871401.0  2\n",
       "23        236456  18872901.0  1\n",
       "24        246235  12468401.0  4\n",
       "25        279910  12485501.0  2\n",
       "26        289380  12449001.0  1\n",
       "27        289380  50973573.0  1\n",
       "28        303661  12468401.0  5\n",
       "29        305025  12442401.0  2\n",
       "30        320983  18783001.0  1\n",
       "31        328222  50667000.0  1\n",
       "32        331426  18874601.0  2\n",
       "33        332361  12425101.0  1\n",
       "34        332361  18940601.0  1\n",
       "35        333046  18871101.0  1\n",
       "36        333868  12442301.0  1\n",
       "37        333868  12468001.0  2\n",
       "38        334525  18871101.0  2\n",
       "39        344070  12467601.0  3\n",
       "40        344070  18308601.0  1\n",
       "41        350366  12485601.0  1\n",
       "42        351022  18342400.0  1\n",
       "43        357381  12442301.0  1\n",
       "44        360478  18996701.0  3\n",
       "45        363076  13069681.0  3\n",
       "46        371133  12485301.0  1\n",
       "47        371133  18948001.0  1\n",
       "48        380310  12467601.0  1\n",
       "49        380310  18617701.0  1"
      ]
     },
     "execution_count": 28,
     "metadata": {},
     "output_type": "execute_result"
    }
   ],
   "source": [
    "final['cluster'] = y_predicted\n",
    "final.drop('cluster', axis='columns',inplace=True)\n",
    "final"
   ]
  },
  {
   "cell_type": "code",
   "execution_count": 29,
   "id": "7ecdf968",
   "metadata": {},
   "outputs": [
    {
     "ename": "AttributeError",
     "evalue": "'DataFrame' object has no attribute 'cluster'",
     "output_type": "error",
     "traceback": [
      "\u001b[1;31m---------------------------------------------------------------------------\u001b[0m",
      "\u001b[1;31mAttributeError\u001b[0m                            Traceback (most recent call last)",
      "Input \u001b[1;32mIn [29]\u001b[0m, in \u001b[0;36m<cell line: 1>\u001b[1;34m()\u001b[0m\n\u001b[1;32m----> 1\u001b[0m f1 \u001b[38;5;241m=\u001b[39m final[\u001b[43mfinal\u001b[49m\u001b[38;5;241;43m.\u001b[39;49m\u001b[43mcluster\u001b[49m\u001b[38;5;241m==\u001b[39m\u001b[38;5;241m0\u001b[39m]\n\u001b[0;32m      2\u001b[0m f2 \u001b[38;5;241m=\u001b[39m final[final\u001b[38;5;241m.\u001b[39mcluster\u001b[38;5;241m==\u001b[39m\u001b[38;5;241m1\u001b[39m]\n\u001b[0;32m      3\u001b[0m f3 \u001b[38;5;241m=\u001b[39m final[final\u001b[38;5;241m.\u001b[39mcluster\u001b[38;5;241m==\u001b[39m\u001b[38;5;241m2\u001b[39m]\n",
      "File \u001b[1;32m~\\anaconda3\\lib\\site-packages\\pandas\\core\\generic.py:5575\u001b[0m, in \u001b[0;36mNDFrame.__getattr__\u001b[1;34m(self, name)\u001b[0m\n\u001b[0;32m   5568\u001b[0m \u001b[38;5;28;01mif\u001b[39;00m (\n\u001b[0;32m   5569\u001b[0m     name \u001b[38;5;129;01mnot\u001b[39;00m \u001b[38;5;129;01min\u001b[39;00m \u001b[38;5;28mself\u001b[39m\u001b[38;5;241m.\u001b[39m_internal_names_set\n\u001b[0;32m   5570\u001b[0m     \u001b[38;5;129;01mand\u001b[39;00m name \u001b[38;5;129;01mnot\u001b[39;00m \u001b[38;5;129;01min\u001b[39;00m \u001b[38;5;28mself\u001b[39m\u001b[38;5;241m.\u001b[39m_metadata\n\u001b[0;32m   5571\u001b[0m     \u001b[38;5;129;01mand\u001b[39;00m name \u001b[38;5;129;01mnot\u001b[39;00m \u001b[38;5;129;01min\u001b[39;00m \u001b[38;5;28mself\u001b[39m\u001b[38;5;241m.\u001b[39m_accessors\n\u001b[0;32m   5572\u001b[0m     \u001b[38;5;129;01mand\u001b[39;00m \u001b[38;5;28mself\u001b[39m\u001b[38;5;241m.\u001b[39m_info_axis\u001b[38;5;241m.\u001b[39m_can_hold_identifiers_and_holds_name(name)\n\u001b[0;32m   5573\u001b[0m ):\n\u001b[0;32m   5574\u001b[0m     \u001b[38;5;28;01mreturn\u001b[39;00m \u001b[38;5;28mself\u001b[39m[name]\n\u001b[1;32m-> 5575\u001b[0m \u001b[38;5;28;01mreturn\u001b[39;00m \u001b[38;5;28;43mobject\u001b[39;49m\u001b[38;5;241;43m.\u001b[39;49m\u001b[38;5;21;43m__getattribute__\u001b[39;49m\u001b[43m(\u001b[49m\u001b[38;5;28;43mself\u001b[39;49m\u001b[43m,\u001b[49m\u001b[43m \u001b[49m\u001b[43mname\u001b[49m\u001b[43m)\u001b[49m\n",
      "\u001b[1;31mAttributeError\u001b[0m: 'DataFrame' object has no attribute 'cluster'"
     ]
    }
   ],
   "source": [
    "#ploting the output after rescaling according to need\n",
    "f1 = final[final.cluster==0]\n",
    "f2 = final[final.cluster==1]\n",
    "f3 = final[final.cluster==2]\n",
    "\n",
    "plt.scatter(f1.contact_name,f1['material'],color='green')\n",
    "plt.scatter(f2.contact_name,f2['material'],color='red')\n",
    "plt.scatter(f3.contact_name,f3['material'],color='blue')\n",
    "\n",
    "plt.xlabel('contact_name')\n",
    "plt.ylabel('material')\n",
    "plt.legend()"
   ]
  },
  {
   "cell_type": "code",
   "execution_count": 47,
   "id": "ab52c046",
   "metadata": {},
   "outputs": [
    {
     "data": {
      "text/plain": [
       "<pyodbc.Cursor at 0x2b4ba3f01b0>"
      ]
     },
     "execution_count": 47,
     "metadata": {},
     "output_type": "execute_result"
    }
   ],
   "source": [
    "#finding the duration between purchasing dates of more than 2 model for a customer\n",
    "cursor.execute(\"SELECT COUNT(model),date_of_purchase FROM rts.dbo.cdp GROUP BY date_of_purchase HAVING COUNT(model)  > 2 \")"
   ]
  },
  {
   "cell_type": "code",
   "execution_count": 48,
   "id": "995dfeda",
   "metadata": {},
   "outputs": [
    {
     "name": "stdout",
     "output_type": "stream",
     "text": [
      "(534, None)\n",
      "(3, datetime.datetime(2013, 8, 27, 0, 0))\n",
      "(3, datetime.datetime(2016, 1, 13, 0, 0))\n",
      "(3, datetime.datetime(2016, 1, 20, 0, 0))\n",
      "(4, datetime.datetime(2017, 1, 11, 0, 0))\n",
      "(3, datetime.datetime(2017, 1, 19, 0, 0))\n",
      "(4, datetime.datetime(2017, 1, 25, 0, 0))\n",
      "(3, datetime.datetime(2021, 8, 15, 0, 0))\n",
      "(3, datetime.datetime(2021, 11, 1, 0, 0))\n",
      "(3, datetime.datetime(2021, 11, 2, 0, 0))\n",
      "(3, datetime.datetime(2021, 12, 30, 0, 0))\n",
      "(9, datetime.datetime(2021, 12, 31, 0, 0))\n",
      "(12, datetime.datetime(2022, 1, 1, 0, 0))\n",
      "(3, datetime.datetime(2022, 1, 2, 0, 0))\n",
      "(7, datetime.datetime(2022, 1, 3, 0, 0))\n",
      "(8, datetime.datetime(2022, 1, 4, 0, 0))\n",
      "(4, datetime.datetime(2022, 1, 5, 0, 0))\n",
      "(5, datetime.datetime(2022, 1, 7, 0, 0))\n",
      "(7, datetime.datetime(2022, 1, 8, 0, 0))\n",
      "(8, datetime.datetime(2022, 1, 9, 0, 0))\n",
      "(7, datetime.datetime(2022, 1, 10, 0, 0))\n",
      "(7, datetime.datetime(2022, 1, 11, 0, 0))\n",
      "(8, datetime.datetime(2022, 1, 12, 0, 0))\n",
      "(7, datetime.datetime(2022, 1, 13, 0, 0))\n",
      "(8, datetime.datetime(2022, 1, 14, 0, 0))\n",
      "(6, datetime.datetime(2022, 1, 15, 0, 0))\n",
      "(3, datetime.datetime(2022, 1, 16, 0, 0))\n",
      "(12, datetime.datetime(2022, 1, 17, 0, 0))\n",
      "(6, datetime.datetime(2022, 1, 18, 0, 0))\n",
      "(18, datetime.datetime(2022, 1, 19, 0, 0))\n",
      "(12, datetime.datetime(2022, 1, 20, 0, 0))\n",
      "(10, datetime.datetime(2022, 1, 21, 0, 0))\n",
      "(13, datetime.datetime(2022, 1, 22, 0, 0))\n",
      "(10, datetime.datetime(2022, 1, 23, 0, 0))\n",
      "(8, datetime.datetime(2022, 1, 24, 0, 0))\n",
      "(3, datetime.datetime(2022, 1, 25, 0, 0))\n",
      "(18, datetime.datetime(2022, 1, 26, 0, 0))\n",
      "(8, datetime.datetime(2022, 1, 27, 0, 0))\n",
      "(3, datetime.datetime(2022, 1, 28, 0, 0))\n",
      "(7, datetime.datetime(2022, 1, 29, 0, 0))\n",
      "(8, datetime.datetime(2022, 1, 30, 0, 0))\n"
     ]
    }
   ],
   "source": [
    "for row in cursor:\n",
    "    print(row)"
   ]
  },
  {
   "cell_type": "code",
   "execution_count": 66,
   "id": "b4ca8d52",
   "metadata": {},
   "outputs": [
    {
     "data": {
      "text/plain": [
       "<pyodbc.Cursor at 0x2b4ba3f01b0>"
      ]
     },
     "execution_count": 66,
     "metadata": {},
     "output_type": "execute_result"
    }
   ],
   "source": [
    "#Return the difference between two date values, in hours:\n",
    "cursor.execute(\"SELECT DATEDIFF(hour, '2013/8/27 12:00', '2022/1/30  12:00') AS DateDiff\")"
   ]
  },
  {
   "cell_type": "code",
   "execution_count": 67,
   "id": "de8435b9",
   "metadata": {},
   "outputs": [
    {
     "name": "stdout",
     "output_type": "stream",
     "text": [
      "(73872, )\n"
     ]
    }
   ],
   "source": [
    "for row in cursor:\n",
    "    print(row)"
   ]
  },
  {
   "cell_type": "code",
   "execution_count": null,
   "id": "af4b1d87",
   "metadata": {},
   "outputs": [],
   "source": []
  }
 ],
 "metadata": {
  "kernelspec": {
   "display_name": "Python 3 (ipykernel)",
   "language": "python",
   "name": "python3"
  },
  "language_info": {
   "codemirror_mode": {
    "name": "ipython",
    "version": 3
   },
   "file_extension": ".py",
   "mimetype": "text/x-python",
   "name": "python",
   "nbconvert_exporter": "python",
   "pygments_lexer": "ipython3",
   "version": "3.9.12"
  }
 },
 "nbformat": 4,
 "nbformat_minor": 5
}
